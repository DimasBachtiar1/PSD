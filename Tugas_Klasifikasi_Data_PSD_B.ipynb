{
  "cells": [
    {
      "cell_type": "markdown",
      "metadata": {
        "id": "40a6cw3xuSKV"
      },
      "source": [
        "# **-------------------------------- TUGAS PROYEK SAINS DATA -------------------------------**\n",
        "\n",
        "\n",
        "---\n",
        "\n"
      ]
    },
    {
      "cell_type": "markdown",
      "metadata": {
        "id": "c4VOEut6ulse"
      },
      "source": [
        "  - NAMA  : DIMAS BACHTIAR\n",
        "  - NIM   : 210411100022\n",
        "  - KELAS : B\n",
        "\n",
        "\n",
        "\n",
        "\n",
        "---\n",
        "\n",
        "\n",
        "\n",
        "\n"
      ]
    },
    {
      "cell_type": "markdown",
      "metadata": {
        "id": "Ob2ZjVdqsm0e"
      },
      "source": [
        "##1. Busines Understanding\n",
        "\n",
        "\n",
        "---\n",
        "\n",
        "\n",
        "\n",
        "\n",
        "\n",
        "\n",
        "\n",
        "\n",
        "\n",
        "\n"
      ]
    },
    {
      "cell_type": "markdown",
      "metadata": {
        "id": "u1ZCZvN-s9Go"
      },
      "source": [
        "###Tujuan Proyek\n",
        "\n",
        "Melakukan Klasifikasi penyakit ginjal kronis untuk memprediksi apakah seseorang terkena penyakit ginjal kronis atau tidak. Untuk menentukan prediksi penyakit ginjal kronis dapat dilihat pada kelas berikut:\n",
        "\n",
        "\n",
        "\n",
        "*   Apabila data memiliki kelas *ckd* (Chronic Kidney Disease) maka dinyatakan terkena penyakit ginjal kronis\n",
        "*   Apabila data memiliki kelas *notckd* (Not Chronic Kidney Disease) maka dinyatakan tidak terkena penyakit ginjal kronis\n",
        "\n",
        "Untuk menentukan klasifikasi penyakit ginjal kronis dapat dilihat dari ciri-ciri sebagai berikut:\n",
        "\n",
        "###DESKRIPSI FITUR\n",
        "\n",
        "1. Age (umur)\n",
        "2. Blood Pressure (Tekanan Darah)\n",
        "\n",
        "   >bp in mm/Hg\n",
        "\n",
        "3. Specific Gravity (Berat jenis Urin)\n",
        "\n",
        "   >sg - (1.005,1.010,1.015,1.020,1.025)\n",
        "\n",
        "\n",
        "4. Albumin (Kadar albumin dalam urin)\n",
        "\n",
        "   >al - (0,1,2,3,4,5)\n",
        "\n",
        "5. Sugar (Kadar gula dalam urin)\n",
        "\n",
        "   >su - (0,1,2,3,4,5)\n",
        "\n",
        "6. Red Blood Cells (sel darah merah)\n",
        "\n",
        "   >rbc - (normal,abnormal)\n",
        "\n",
        "7. Pus Cell (sel darah putih)\n",
        "\n",
        "   >pc - (normal,abnormal)\n",
        "\n",
        "\n",
        "8. Pus Cell clumps (gumpalan sel darah putih)\n",
        "\n",
        "   >pcc - (present,notpresent)\n",
        "\n",
        "\n",
        "9. Bacteria (bakteri dalam urin)\n",
        "\n",
        "   >ba  - (present,notpresent)\n",
        "\n",
        "10. Blood Glucose Random (kadar glukosa darah)\n",
        "\n",
        "    >bgr in mgs/dl\n",
        "\n",
        "\n",
        "11. Blood Urea (kadar urea dalam darah)\n",
        "\n",
        "    >bu in mgs/dl\n",
        "\n",
        "\n",
        "12. Serum Creatinine (kadar kreatin dalam darah)\n",
        "\n",
        "    >sc in mgs/dl\n",
        "\n",
        "\n",
        "13. Sodium (kadar natrium dalam darah)\n",
        "\n",
        "    >sod in mEq/L\n",
        "\n",
        "\n",
        "14. Potassium (kadar kalium dalam darah)\n",
        "\n",
        "    >pot in mEq/L\n",
        "\n",
        "\n",
        "15. Hemoglobin (kadar hemoglobin)\n",
        "\n",
        "    >hemo in gms\n",
        "\n",
        "\n",
        "16. Packed  Cell Volume (volume sel darah merah dalam darah)\n",
        "    \n",
        "\n",
        "17. White Blood Cell Count (jumlah sel darah putih)\n",
        "    \n",
        "    >wc in cells/cumm\n",
        "\n",
        "\n",
        "18. Red Blood Cell Count (jumlah sel darah merah)\n",
        "\n",
        "    >rc in millions/cmm\n",
        "\n",
        "\n",
        "19. Hypertension (hipertensi)\n",
        "\n",
        "    >htn - (yes,no)\n",
        "\n",
        "\n",
        "20. Diabetes Mellitus(keberadaan diabetes melitus)\n",
        "\n",
        "    >dm - (yes,no)\n",
        "\n",
        "\n",
        "21. Coronary Artery Disease (keberadaan penyakit arteri koroner)\n",
        "\n",
        "    >cad - (yes,no)\n",
        "\n",
        "\n",
        "22. Appetite (kondisi nafsu makan)\n",
        "\n",
        "    >appet - (good,poor)\n",
        "\n",
        "23. Pedal Edema (keberadaan edema pada kaki)\n",
        "\n",
        "    >pe - (yes,no)\n",
        "\n",
        "24. Anemia (keberadaan anemia)\n",
        "    \n",
        "    >ane - (yes,no)\n",
        "\n",
        "\n",
        "\n",
        "\n",
        "\n",
        "Untuk refrensi bisa diakses link berikut : https://archive.ics.uci.edu/dataset/336/chronic+kidney+disease"
      ]
    },
    {
      "cell_type": "markdown",
      "metadata": {
        "id": "1DSl_-0yw_25"
      },
      "source": [
        "\n",
        "\n",
        "---\n",
        "\n",
        "\n",
        "\n",
        "\n",
        "\n"
      ]
    },
    {
      "cell_type": "markdown",
      "metadata": {
        "id": "4fK-1SlIxFcm"
      },
      "source": [
        "##2. Data Understanding\n",
        "\n",
        "Tujuan dari data understanding ini adalah untuk memahami struktur, karakteristik, dan kualitas data yang akan digunakan untuk analisis lebih lanjut.\n",
        "\n",
        "Adapun hal - hal yang perlu dilakukan data understanding sebagai berikut :\n",
        "1. Pengumpulan Data\n",
        "2. Eksplorasi Data\n",
        "   - Mengidentifikasi jumlah data\n",
        "   - Mendeskripsikan setiap fitur pada data\n",
        "    * tipe data\n",
        "    * deskripsi data\n",
        "   - Visualisasi data\n",
        "3. Mengidentifikasi missing values setiap fitur atau kolom\n",
        "4. Mengidentifikasi outlier\n",
        "---\n"
      ]
    },
    {
      "cell_type": "markdown",
      "metadata": {
        "id": "vVa9agv7yvAd"
      },
      "source": [
        "### Pengumpulan Data\n",
        "\n",
        "Data ini diambil selama periode 2 bulan di India dengan 25 fitur (misalnya jumlah sel darah merah, jumlah sel darah putih, dll). Targetnya adalah 'klasifikasi', yaitu 'ckd' atau 'notckd' - ckd = penyakit ginjal kronis. Penyakit Ginjal Kronis adalah suatu kondisi di mana fungsi ginjal secara bertahap menurun selama periode waktu yang cukup lama. Ginjal memiliki peran penting dalam menyaring limbah dan kelebihan cairan dari darah, serta dalam menjaga keseimbangan elektrolit dan tekanan darah.\n",
        "\n",
        "\n"
      ]
    },
    {
      "cell_type": "markdown",
      "metadata": {
        "id": "xcYIsbqc922i"
      },
      "source": [
        "### Eksplorasi  Data\n",
        "\n",
        "Eksplorasi data awal adalah tahap awal dalam proses analisis data yang bertujuan untuk memahami sifat dan karakteristik data sebelum dilakukan analisis lebih lanjut. Langkah-langkah eksplorasi data awal memberikan wawasan awal tentang isi dataset dan membantu peneliti atau analis data dalam merencanakan pendekatan analisis yang tepat."
      ]
    },
    {
      "cell_type": "markdown",
      "metadata": {
        "id": "x_BAkYwA-xec"
      },
      "source": [
        "#### Mengidentifikasi jumlah data\n",
        "\n",
        "Mengidentifikasi jumlah data merupakan langkah awal untuk memahami skala dataset yang akan kita lakukan pengolahan. Dengan mengetahui jumlah baris (observasi) dan kolom (fitur) atau gambaran umum tentang ukuran data.\n",
        "\n",
        "Jumlah Dataset sebanyak 400 dengan rincian sebagai berikut :\n",
        "\n",
        "- Chronic Kidney Disease (ckd) = 250\n",
        "- Not Chronic Kidney Disesae (notckd) = 150"
      ]
    },
    {
      "cell_type": "code",
      "execution_count": null,
      "metadata": {
        "colab": {
          "base_uri": "https://localhost:8080/"
        },
        "id": "R9ekKb-PsZUU",
        "outputId": "b1e8e5ec-1c86-4f4e-ba1d-4687e70e2b6f"
      },
      "outputs": [
        {
          "name": "stdout",
          "output_type": "stream",
          "text": [
            "Mounted at /content/drive\n",
            "/content/drive/MyDrive/PSD\n"
          ]
        }
      ],
      "source": [
        "#Menyambungkan Google Drive dengan Google Colab\n",
        "from google.colab import drive\n",
        "drive.mount(\"/content/drive\")\n",
        "%cd /content/drive/MyDrive/PSD/"
      ]
    },
    {
      "cell_type": "code",
      "execution_count": null,
      "metadata": {
        "colab": {
          "base_uri": "https://localhost:8080/",
          "height": 236
        },
        "id": "i6Yuz1WxxoT1",
        "outputId": "46f81276-c122-486b-a6e6-356287d090be"
      },
      "outputs": [
        {
          "data": {
            "text/html": [
              "\n",
              "  <div id=\"df-1872cc28-1c16-4393-8976-1863adba56e1\" class=\"colab-df-container\">\n",
              "    <div>\n",
              "<style scoped>\n",
              "    .dataframe tbody tr th:only-of-type {\n",
              "        vertical-align: middle;\n",
              "    }\n",
              "\n",
              "    .dataframe tbody tr th {\n",
              "        vertical-align: top;\n",
              "    }\n",
              "\n",
              "    .dataframe thead th {\n",
              "        text-align: right;\n",
              "    }\n",
              "</style>\n",
              "<table border=\"1\" class=\"dataframe\">\n",
              "  <thead>\n",
              "    <tr style=\"text-align: right;\">\n",
              "      <th></th>\n",
              "      <th>id</th>\n",
              "      <th>age</th>\n",
              "      <th>bp</th>\n",
              "      <th>sg</th>\n",
              "      <th>al</th>\n",
              "      <th>su</th>\n",
              "      <th>rbc</th>\n",
              "      <th>pc</th>\n",
              "      <th>pcc</th>\n",
              "      <th>ba</th>\n",
              "      <th>...</th>\n",
              "      <th>pcv</th>\n",
              "      <th>wc</th>\n",
              "      <th>rc</th>\n",
              "      <th>htn</th>\n",
              "      <th>dm</th>\n",
              "      <th>cad</th>\n",
              "      <th>appet</th>\n",
              "      <th>pe</th>\n",
              "      <th>ane</th>\n",
              "      <th>classification</th>\n",
              "    </tr>\n",
              "  </thead>\n",
              "  <tbody>\n",
              "    <tr>\n",
              "      <th>0</th>\n",
              "      <td>0</td>\n",
              "      <td>48.0</td>\n",
              "      <td>80.0</td>\n",
              "      <td>1.020</td>\n",
              "      <td>1.0</td>\n",
              "      <td>0.0</td>\n",
              "      <td>NaN</td>\n",
              "      <td>normal</td>\n",
              "      <td>notpresent</td>\n",
              "      <td>notpresent</td>\n",
              "      <td>...</td>\n",
              "      <td>44</td>\n",
              "      <td>7800</td>\n",
              "      <td>5.2</td>\n",
              "      <td>yes</td>\n",
              "      <td>yes</td>\n",
              "      <td>no</td>\n",
              "      <td>good</td>\n",
              "      <td>no</td>\n",
              "      <td>no</td>\n",
              "      <td>ckd</td>\n",
              "    </tr>\n",
              "    <tr>\n",
              "      <th>1</th>\n",
              "      <td>1</td>\n",
              "      <td>7.0</td>\n",
              "      <td>50.0</td>\n",
              "      <td>1.020</td>\n",
              "      <td>4.0</td>\n",
              "      <td>0.0</td>\n",
              "      <td>NaN</td>\n",
              "      <td>normal</td>\n",
              "      <td>notpresent</td>\n",
              "      <td>notpresent</td>\n",
              "      <td>...</td>\n",
              "      <td>38</td>\n",
              "      <td>6000</td>\n",
              "      <td>NaN</td>\n",
              "      <td>no</td>\n",
              "      <td>no</td>\n",
              "      <td>no</td>\n",
              "      <td>good</td>\n",
              "      <td>no</td>\n",
              "      <td>no</td>\n",
              "      <td>ckd</td>\n",
              "    </tr>\n",
              "    <tr>\n",
              "      <th>2</th>\n",
              "      <td>2</td>\n",
              "      <td>62.0</td>\n",
              "      <td>80.0</td>\n",
              "      <td>1.010</td>\n",
              "      <td>2.0</td>\n",
              "      <td>3.0</td>\n",
              "      <td>normal</td>\n",
              "      <td>normal</td>\n",
              "      <td>notpresent</td>\n",
              "      <td>notpresent</td>\n",
              "      <td>...</td>\n",
              "      <td>31</td>\n",
              "      <td>7500</td>\n",
              "      <td>NaN</td>\n",
              "      <td>no</td>\n",
              "      <td>yes</td>\n",
              "      <td>no</td>\n",
              "      <td>poor</td>\n",
              "      <td>no</td>\n",
              "      <td>yes</td>\n",
              "      <td>ckd</td>\n",
              "    </tr>\n",
              "    <tr>\n",
              "      <th>3</th>\n",
              "      <td>3</td>\n",
              "      <td>48.0</td>\n",
              "      <td>70.0</td>\n",
              "      <td>1.005</td>\n",
              "      <td>4.0</td>\n",
              "      <td>0.0</td>\n",
              "      <td>normal</td>\n",
              "      <td>abnormal</td>\n",
              "      <td>present</td>\n",
              "      <td>notpresent</td>\n",
              "      <td>...</td>\n",
              "      <td>32</td>\n",
              "      <td>6700</td>\n",
              "      <td>3.9</td>\n",
              "      <td>yes</td>\n",
              "      <td>no</td>\n",
              "      <td>no</td>\n",
              "      <td>poor</td>\n",
              "      <td>yes</td>\n",
              "      <td>yes</td>\n",
              "      <td>ckd</td>\n",
              "    </tr>\n",
              "    <tr>\n",
              "      <th>4</th>\n",
              "      <td>4</td>\n",
              "      <td>51.0</td>\n",
              "      <td>80.0</td>\n",
              "      <td>1.010</td>\n",
              "      <td>2.0</td>\n",
              "      <td>0.0</td>\n",
              "      <td>normal</td>\n",
              "      <td>normal</td>\n",
              "      <td>notpresent</td>\n",
              "      <td>notpresent</td>\n",
              "      <td>...</td>\n",
              "      <td>35</td>\n",
              "      <td>7300</td>\n",
              "      <td>4.6</td>\n",
              "      <td>no</td>\n",
              "      <td>no</td>\n",
              "      <td>no</td>\n",
              "      <td>good</td>\n",
              "      <td>no</td>\n",
              "      <td>no</td>\n",
              "      <td>ckd</td>\n",
              "    </tr>\n",
              "  </tbody>\n",
              "</table>\n",
              "<p>5 rows × 26 columns</p>\n",
              "</div>\n",
              "    <div class=\"colab-df-buttons\">\n",
              "\n",
              "  <div class=\"colab-df-container\">\n",
              "    <button class=\"colab-df-convert\" onclick=\"convertToInteractive('df-1872cc28-1c16-4393-8976-1863adba56e1')\"\n",
              "            title=\"Convert this dataframe to an interactive table.\"\n",
              "            style=\"display:none;\">\n",
              "\n",
              "  <svg xmlns=\"http://www.w3.org/2000/svg\" height=\"24px\" viewBox=\"0 -960 960 960\">\n",
              "    <path d=\"M120-120v-720h720v720H120Zm60-500h600v-160H180v160Zm220 220h160v-160H400v160Zm0 220h160v-160H400v160ZM180-400h160v-160H180v160Zm440 0h160v-160H620v160ZM180-180h160v-160H180v160Zm440 0h160v-160H620v160Z\"/>\n",
              "  </svg>\n",
              "    </button>\n",
              "\n",
              "  <style>\n",
              "    .colab-df-container {\n",
              "      display:flex;\n",
              "      gap: 12px;\n",
              "    }\n",
              "\n",
              "    .colab-df-convert {\n",
              "      background-color: #E8F0FE;\n",
              "      border: none;\n",
              "      border-radius: 50%;\n",
              "      cursor: pointer;\n",
              "      display: none;\n",
              "      fill: #1967D2;\n",
              "      height: 32px;\n",
              "      padding: 0 0 0 0;\n",
              "      width: 32px;\n",
              "    }\n",
              "\n",
              "    .colab-df-convert:hover {\n",
              "      background-color: #E2EBFA;\n",
              "      box-shadow: 0px 1px 2px rgba(60, 64, 67, 0.3), 0px 1px 3px 1px rgba(60, 64, 67, 0.15);\n",
              "      fill: #174EA6;\n",
              "    }\n",
              "\n",
              "    .colab-df-buttons div {\n",
              "      margin-bottom: 4px;\n",
              "    }\n",
              "\n",
              "    [theme=dark] .colab-df-convert {\n",
              "      background-color: #3B4455;\n",
              "      fill: #D2E3FC;\n",
              "    }\n",
              "\n",
              "    [theme=dark] .colab-df-convert:hover {\n",
              "      background-color: #434B5C;\n",
              "      box-shadow: 0px 1px 3px 1px rgba(0, 0, 0, 0.15);\n",
              "      filter: drop-shadow(0px 1px 2px rgba(0, 0, 0, 0.3));\n",
              "      fill: #FFFFFF;\n",
              "    }\n",
              "  </style>\n",
              "\n",
              "    <script>\n",
              "      const buttonEl =\n",
              "        document.querySelector('#df-1872cc28-1c16-4393-8976-1863adba56e1 button.colab-df-convert');\n",
              "      buttonEl.style.display =\n",
              "        google.colab.kernel.accessAllowed ? 'block' : 'none';\n",
              "\n",
              "      async function convertToInteractive(key) {\n",
              "        const element = document.querySelector('#df-1872cc28-1c16-4393-8976-1863adba56e1');\n",
              "        const dataTable =\n",
              "          await google.colab.kernel.invokeFunction('convertToInteractive',\n",
              "                                                    [key], {});\n",
              "        if (!dataTable) return;\n",
              "\n",
              "        const docLinkHtml = 'Like what you see? Visit the ' +\n",
              "          '<a target=\"_blank\" href=https://colab.research.google.com/notebooks/data_table.ipynb>data table notebook</a>'\n",
              "          + ' to learn more about interactive tables.';\n",
              "        element.innerHTML = '';\n",
              "        dataTable['output_type'] = 'display_data';\n",
              "        await google.colab.output.renderOutput(dataTable, element);\n",
              "        const docLink = document.createElement('div');\n",
              "        docLink.innerHTML = docLinkHtml;\n",
              "        element.appendChild(docLink);\n",
              "      }\n",
              "    </script>\n",
              "  </div>\n",
              "\n",
              "\n",
              "<div id=\"df-0fc135a7-ec7d-438c-931c-04b647826489\">\n",
              "  <button class=\"colab-df-quickchart\" onclick=\"quickchart('df-0fc135a7-ec7d-438c-931c-04b647826489')\"\n",
              "            title=\"Suggest charts\"\n",
              "            style=\"display:none;\">\n",
              "\n",
              "<svg xmlns=\"http://www.w3.org/2000/svg\" height=\"24px\"viewBox=\"0 0 24 24\"\n",
              "     width=\"24px\">\n",
              "    <g>\n",
              "        <path d=\"M19 3H5c-1.1 0-2 .9-2 2v14c0 1.1.9 2 2 2h14c1.1 0 2-.9 2-2V5c0-1.1-.9-2-2-2zM9 17H7v-7h2v7zm4 0h-2V7h2v10zm4 0h-2v-4h2v4z\"/>\n",
              "    </g>\n",
              "</svg>\n",
              "  </button>\n",
              "\n",
              "<style>\n",
              "  .colab-df-quickchart {\n",
              "      --bg-color: #E8F0FE;\n",
              "      --fill-color: #1967D2;\n",
              "      --hover-bg-color: #E2EBFA;\n",
              "      --hover-fill-color: #174EA6;\n",
              "      --disabled-fill-color: #AAA;\n",
              "      --disabled-bg-color: #DDD;\n",
              "  }\n",
              "\n",
              "  [theme=dark] .colab-df-quickchart {\n",
              "      --bg-color: #3B4455;\n",
              "      --fill-color: #D2E3FC;\n",
              "      --hover-bg-color: #434B5C;\n",
              "      --hover-fill-color: #FFFFFF;\n",
              "      --disabled-bg-color: #3B4455;\n",
              "      --disabled-fill-color: #666;\n",
              "  }\n",
              "\n",
              "  .colab-df-quickchart {\n",
              "    background-color: var(--bg-color);\n",
              "    border: none;\n",
              "    border-radius: 50%;\n",
              "    cursor: pointer;\n",
              "    display: none;\n",
              "    fill: var(--fill-color);\n",
              "    height: 32px;\n",
              "    padding: 0;\n",
              "    width: 32px;\n",
              "  }\n",
              "\n",
              "  .colab-df-quickchart:hover {\n",
              "    background-color: var(--hover-bg-color);\n",
              "    box-shadow: 0 1px 2px rgba(60, 64, 67, 0.3), 0 1px 3px 1px rgba(60, 64, 67, 0.15);\n",
              "    fill: var(--button-hover-fill-color);\n",
              "  }\n",
              "\n",
              "  .colab-df-quickchart-complete:disabled,\n",
              "  .colab-df-quickchart-complete:disabled:hover {\n",
              "    background-color: var(--disabled-bg-color);\n",
              "    fill: var(--disabled-fill-color);\n",
              "    box-shadow: none;\n",
              "  }\n",
              "\n",
              "  .colab-df-spinner {\n",
              "    border: 2px solid var(--fill-color);\n",
              "    border-color: transparent;\n",
              "    border-bottom-color: var(--fill-color);\n",
              "    animation:\n",
              "      spin 1s steps(1) infinite;\n",
              "  }\n",
              "\n",
              "  @keyframes spin {\n",
              "    0% {\n",
              "      border-color: transparent;\n",
              "      border-bottom-color: var(--fill-color);\n",
              "      border-left-color: var(--fill-color);\n",
              "    }\n",
              "    20% {\n",
              "      border-color: transparent;\n",
              "      border-left-color: var(--fill-color);\n",
              "      border-top-color: var(--fill-color);\n",
              "    }\n",
              "    30% {\n",
              "      border-color: transparent;\n",
              "      border-left-color: var(--fill-color);\n",
              "      border-top-color: var(--fill-color);\n",
              "      border-right-color: var(--fill-color);\n",
              "    }\n",
              "    40% {\n",
              "      border-color: transparent;\n",
              "      border-right-color: var(--fill-color);\n",
              "      border-top-color: var(--fill-color);\n",
              "    }\n",
              "    60% {\n",
              "      border-color: transparent;\n",
              "      border-right-color: var(--fill-color);\n",
              "    }\n",
              "    80% {\n",
              "      border-color: transparent;\n",
              "      border-right-color: var(--fill-color);\n",
              "      border-bottom-color: var(--fill-color);\n",
              "    }\n",
              "    90% {\n",
              "      border-color: transparent;\n",
              "      border-bottom-color: var(--fill-color);\n",
              "    }\n",
              "  }\n",
              "</style>\n",
              "\n",
              "  <script>\n",
              "    async function quickchart(key) {\n",
              "      const quickchartButtonEl =\n",
              "        document.querySelector('#' + key + ' button');\n",
              "      quickchartButtonEl.disabled = true;  // To prevent multiple clicks.\n",
              "      quickchartButtonEl.classList.add('colab-df-spinner');\n",
              "      try {\n",
              "        const charts = await google.colab.kernel.invokeFunction(\n",
              "            'suggestCharts', [key], {});\n",
              "      } catch (error) {\n",
              "        console.error('Error during call to suggestCharts:', error);\n",
              "      }\n",
              "      quickchartButtonEl.classList.remove('colab-df-spinner');\n",
              "      quickchartButtonEl.classList.add('colab-df-quickchart-complete');\n",
              "    }\n",
              "    (() => {\n",
              "      let quickchartButtonEl =\n",
              "        document.querySelector('#df-0fc135a7-ec7d-438c-931c-04b647826489 button');\n",
              "      quickchartButtonEl.style.display =\n",
              "        google.colab.kernel.accessAllowed ? 'block' : 'none';\n",
              "    })();\n",
              "  </script>\n",
              "</div>\n",
              "    </div>\n",
              "  </div>\n"
            ],
            "text/plain": [
              "   id   age    bp     sg   al   su     rbc        pc         pcc          ba  \\\n",
              "0   0  48.0  80.0  1.020  1.0  0.0     NaN    normal  notpresent  notpresent   \n",
              "1   1   7.0  50.0  1.020  4.0  0.0     NaN    normal  notpresent  notpresent   \n",
              "2   2  62.0  80.0  1.010  2.0  3.0  normal    normal  notpresent  notpresent   \n",
              "3   3  48.0  70.0  1.005  4.0  0.0  normal  abnormal     present  notpresent   \n",
              "4   4  51.0  80.0  1.010  2.0  0.0  normal    normal  notpresent  notpresent   \n",
              "\n",
              "   ...  pcv    wc   rc  htn   dm  cad appet   pe  ane classification  \n",
              "0  ...   44  7800  5.2  yes  yes   no  good   no   no            ckd  \n",
              "1  ...   38  6000  NaN   no   no   no  good   no   no            ckd  \n",
              "2  ...   31  7500  NaN   no  yes   no  poor   no  yes            ckd  \n",
              "3  ...   32  6700  3.9  yes   no   no  poor  yes  yes            ckd  \n",
              "4  ...   35  7300  4.6   no   no   no  good   no   no            ckd  \n",
              "\n",
              "[5 rows x 26 columns]"
            ]
          },
          "execution_count": 2,
          "metadata": {},
          "output_type": "execute_result"
        }
      ],
      "source": [
        "import pandas as pd\n",
        "df = pd.read_csv('kidney_disease.csv')\n",
        "df.head(5)"
      ]
    },
    {
      "cell_type": "code",
      "execution_count": null,
      "metadata": {
        "colab": {
          "base_uri": "https://localhost:8080/"
        },
        "id": "beJbu6kLyBID",
        "outputId": "109a87b6-ec5d-4b69-996d-cc9d2c2f72d3"
      },
      "outputs": [
        {
          "name": "stdout",
          "output_type": "stream",
          "text": [
            "Banyaknya data :  400\n",
            "Banyaknya kolom :  26\n"
          ]
        }
      ],
      "source": [
        "# Rincian dataset (banyak data dan kolom)\n",
        "\n",
        "print(\"Banyaknya data : \", df.shape[0])\n",
        "print(\"Banyaknya kolom : \", df.shape[1])"
      ]
    },
    {
      "cell_type": "markdown",
      "metadata": {
        "id": "5tZ5xBhGBvRF"
      },
      "source": [
        "#### Identifikasi Proporsi Jumlah Masing-masing Kelas Dalam Data\n",
        "\n",
        "Untuk mencapai hasil maksimal, perlu dilakukan identifikasi proporsi jumlah data dari masing-masing kelas. Dengan begitu ketidakseimbangan data disetiap kelas pada data penyakit ginjal kronis ini dapat ditangani dengan menyeimbangkan jumlah data disetiap kelasnya."
      ]
    },
    {
      "cell_type": "code",
      "execution_count": null,
      "metadata": {
        "colab": {
          "base_uri": "https://localhost:8080/"
        },
        "id": "YKCi4MQzCdIQ",
        "outputId": "07cf3bd4-7177-4bd9-ec63-377782d6bbb6"
      },
      "outputs": [
        {
          "name": "stdout",
          "output_type": "stream",
          "text": [
            "Jumlah data pada tiap target :\n",
            "ckd       248\n",
            "notckd    150\n",
            "ckd\\t       2\n",
            "Name: classification, dtype: int64\n"
          ]
        }
      ],
      "source": [
        "# Menghitung jumlah target pada data tanpa outlier\n",
        "target = df['classification'].value_counts()\n",
        "\n",
        "print(\"Jumlah data pada tiap target :\")\n",
        "print(target)"
      ]
    },
    {
      "cell_type": "markdown",
      "metadata": {
        "id": "F06QjHciCxt5"
      },
      "source": [
        "Diperoleh identifikasi setiap target sebanyak 2 kelas yaitu ckd dan notckd. Kelas ckd memiliki jumlah yang lebih besar dibandingkan dengan notckd. Akan tetapi selisih dari jumlah data tersebut tidak terlalu jauh, sehingga tidak perlu dilakukan balancing data."
      ]
    },
    {
      "cell_type": "markdown",
      "metadata": {
        "id": "0COCyQ9ZyPXz"
      },
      "source": [
        "#### Mendeskripsikan setiap fitur\n",
        "\n",
        "Chronic Kidney Disease / Penyakit Ginjal Kronis pada dataset ini terdapat 25 fitur dengan jumlah data sebanyak 400."
      ]
    },
    {
      "cell_type": "code",
      "execution_count": null,
      "metadata": {
        "colab": {
          "base_uri": "https://localhost:8080/"
        },
        "id": "rNP45PoYyGjQ",
        "outputId": "815a36d0-0795-4686-e0a9-a6a8aba58645"
      },
      "outputs": [
        {
          "data": {
            "text/plain": [
              "Index(['id', 'age', 'bp', 'sg', 'al', 'su', 'rbc', 'pc', 'pcc', 'ba', 'bgr',\n",
              "       'bu', 'sc', 'sod', 'pot', 'hemo', 'pcv', 'wc', 'rc', 'htn', 'dm', 'cad',\n",
              "       'appet', 'pe', 'ane', 'classification'],\n",
              "      dtype='object')"
            ]
          },
          "execution_count": 5,
          "metadata": {},
          "output_type": "execute_result"
        }
      ],
      "source": [
        "df.columns"
      ]
    },
    {
      "cell_type": "markdown",
      "metadata": {
        "id": "_B8KRFNiycXZ"
      },
      "source": [
        "###Tipe Data"
      ]
    },
    {
      "cell_type": "markdown",
      "metadata": {
        "id": "T8VhVOtaz2F5"
      },
      "source": [
        "Berikut Macam - Macam Data yang ada pada data ini.   \n",
        "\n",
        "1. Tipe nominal\n",
        "   Tipe nominal adalah variabel yang menggambarkan kategori tanpa memiliki urutan tertentu atau tingkat peringkat yang melekat. Berikut tipe nominal yang terdapat pada data ini :   \n",
        "    - memiliki value 1.005,1.010,1.015,1.020, dan 1.025.\n",
        "        > yaitu fitur : *'Specific Gravity (sg)'*\n",
        "    - memiliki value 0,1,2,3,4, dan 5.\n",
        "        > yaitu pada fitur *'Albumin (al)' dan Sugar (su)*\n",
        "    - memiliki value normal dan abnormal.\n",
        "        > yakni pada fitur *'Red Blood Cells(rbc)'dan'Pus Cell(pc)'*\n",
        "    - memiliki value normal dan abnormal.\n",
        "        > yakni pada fitur *'Red Blood Cells(rbc)'dan'Pus Cell(pc)'*\n",
        "    - memiliki value present dan notpresent.\n",
        "        > yakni pada fitur *'Pus Cell clumps(pcc)' dan 'Bacteria(ba)'*\n",
        "    - memiliki value yes dan no.\n",
        "        > yakni pada fitur *'Hypertension(htn)', 'Diabetes Mellitus(dm)', 'Coronary Artery Disease(cad)', 'Pedal Edema(pe)', dan 'Anemia'(ane)*\n",
        "    - memiliki value ckd dan notckd.\n",
        "        > yakni pada fitur *'Classification'*\n",
        "    - memiliki tipe data numeric.\n",
        "        > yakni pada fitur *'Age', 'Blood Pressure', 'Blood Glucose Random', 'Blood Urea', 'Serum Creatinine', 'Sodium', 'Potassium', 'Hemoglobin', 'Packed  Cell Volume', 'White Blood Cell Count', dan 'Red Blood Cell Count',*\n",
        "3. Tipe ordinal\n",
        "   Tipe ordinal adalah variabel yang memiliki kategori dengan urutan atau tingkat peringkat yang dapat dibandingkan. Berikut tipe ordinal yang terdapat pada data ini :\n",
        "    > yakni pada fitur *'Appetite'* dengan value *good* dan *poor*"
      ]
    },
    {
      "cell_type": "markdown",
      "metadata": {
        "id": "9SD3PHO72fQg"
      },
      "source": [
        "###Deskripsi Data"
      ]
    },
    {
      "cell_type": "markdown",
      "metadata": {
        "id": "UYmUGtsf2laF"
      },
      "source": [
        "1. Age (umur)\n",
        "\n",
        "   >umur dalam tahun\n",
        "   >Data diperoleh dari usia seseorang saat pengambilan data\n",
        "\n",
        "2. Blood Pressure (Tekanan Darah)\n",
        "\n",
        "   >bp in mm/Hg\n",
        "\n",
        "   >Peningkatan tekanan darah menjadi indikator atau faktor resiko dari penyakit ginjal kronis. Tekanan darah dapat diukur dengan menggunakan alat pengukur pengukur tekanan darah yaitu sphygmomanometer. Pengukurannya ada 2 cara yaiut :tekanan sistolik (saat jantung berkontraksi) dan tekanan diastolik (saat jantung beristirahat). Keduanya diukur dalam milimeter air raksa (mmHg).\n",
        "\n",
        "3. Specific Gravity (Berat jenis Urin)\n",
        "\n",
        "   >sg - (1.005,1.010,1.015,1.020,1.025)\n",
        "   \n",
        "   >Berat jenis urin mengukur seberapa padat atau encer urin seseorang. Normalnya, urin yang diproduksi oleh ginjal memiliki berat jenis tertentu yang mencerminkan kemampuan ginjal untuk menyaring zat-zat dalam darah dan membuangnya melalui urin. Pada orang dengan PGK, ginjal mungkin mengalami kesulitan menyaring dan membuang zat-zat tertentu, sehingga dapat terjadi perubahan pada berat jenis urin. Pengambilan data berat jenis urin dapat dilakukan dengan tiga cara yaitu Urinometer, Strip Uji Urin, dan Laboratorium. Untuk berat jenis urin normal berkisar antara 1.010 hingga 1.025. Akan tetapi, terdapat beberapa faktor yang mempengaruhi berat jenis urine normal, salah satunya pada kondisi medis seperti gagal ginjal, infeksi saluran kemih, dan diabetes dapat memiliki berat jenis urine dengan rentang 1.020 hingga 1.030 g/ml.\n",
        "\n",
        "   >Referensi : https://jenis.id/berat-jenis-urine-normal/\n",
        "\n",
        "4. Albumin (Kadar albumin dalam urin)\n",
        "\n",
        "   >al - (0,1,2,3,4,5)\n",
        "\n",
        "   >Albumin adalah salah satu protein dalam darah yang berperan penting dalam mempertahankan tekanan osmotik darah, serta membantu dalam transportasi zat-zat seperti hormon dan nutrisi. Albumin juga dapat diukur dalam urin, dan tingkat albumin dalam urin sering digunakan sebagai indikator dalam klasifikasi penyakit ginjal kronis (PGK). Pengambilan data albumin dapat dilakukan dengan dua cara yaitu Uji Tinja (Dipstick Test) dan Uji Laboratorium. Untuk penjelasan rentang albumin 0,1,2,3,4,5 sebagai berikut:\n",
        "\n",
        "  >0: Tidak ada atau kadar albumin sangat rendah, yang mungkin dianggap normal\n",
        "\n",
        "  >1: Tingkat mikroalbuminuria yang rendah, mungkin menunjukkan adanya kerusakan ginjal yang awal.\n",
        "\n",
        "  >2: Peningkatan tingkat mikroalbuminuria, menunjukkan adanya kerusakan ginjal yang sedang.\n",
        "\n",
        "  >3-4: Mungkin menunjukkan peningkatan yang lebih signifikan dalam tingkat albuminuria, mencerminkan kerusakan ginjal yang lebih parah.\n",
        "\n",
        "  >5: Paling mungkin menunjukkan tingkat albuminuria yang sangat tinggi, mungkin dianggap sebagai makroalbuminuria, yang sering kali dihubungkan dengan progresi penyakit ginjal yang signifikan.\n",
        "\n",
        "5. Sugar (Kadar gula dalam urin)\n",
        "\n",
        "   >su - (0,1,2,3,4,5)\n",
        "\n",
        "   >Kadar glukosa dalam darah dapat memberikan indikasi tentang fungsi ginjal dan kesehatan tubuh secara keseluruhan. Penyakit ginjal kronis bisa memengaruhi metabolisme glukosa dan menyebabkan peningkatan kadar gula dalam darah, yang dapat terlihat dalam urin. Pengambilan data albumin dapat dilakukan dengan cara Uji Pendektesian Gula. Untuk alat yang digunakan yaitu\n",
        "   mikroskop atau alat tes kimia. Untuk penjelasan rentang albumin 0,1,2,3,4,5 sebagai berikut:\n",
        "\n",
        "   >0: Kadar gula dalam urin yang diukur sebagai 0 mungkin menunjukkan bahwa tidak ada atau hanya sedikit glukosa yang terdeteksi dalam urin. Dalam keadaan normal, urin seharusnya tidak mengandung glukosa yang signifikan.\n",
        "\n",
        "   >1: Kadar gula dalam urin sebesar 1 mungkin menunjukkan adanya sedikit glukosa dalam urin. Meskipun nilai ini masih di bawah ambang batas normal, bisa menjadi perhatian dan memerlukan pemantauan lebih lanjut.\n",
        "\n",
        "   >2: Kadar gula dalam urin sebesar 2 mungkin menunjukkan peningkatan glukosa yang lebih signifikan dalam urin. Ini bisa mengindikasikan adanya gangguan metabolisme glukosa atau ketidaknormalan pada ginjal.\n",
        "\n",
        "   >3-4: Kadar gula dalam urin sebesar 3 atau 4 mungkin menunjukkan peningkatan yang lebih signifikan dalam glukosa urin. Ini bisa terkait dengan masalah metabolik yang lebih serius dan perlu ditinjau lebih lanjut oleh profesional medis.\n",
        "\n",
        "   >5: Kadar gula dalam urin sebesar 5 mungkin menunjukkan tingkat glukosa yang sangat tinggi dalam urin. Ini bisa merupakan tanda gangguan metabolisme glukosa yang serius atau masalah ginjal yang signifikan.\n",
        "\n",
        "6. Red Blood Cells (sel darah merah)\n",
        "\n",
        "   >rbc - (normal,abnormal)\n",
        "\n",
        "   >Sel darah merah (eritrosit) adalah komponen seluler darah yang membawa oksigen dari paru-paru ke seluruh tubuh dan mengangkut karbon dioksida dari seluruh tubuh kembali ke paru-paru untuk dikeluarkan. Kaitannya dengan penyakit ginjal kronis adalah penyakit ini dapat menyebabkan anemia (kurang darah) karena produksi hormon eritropoietin berkurang, ini diperlukan untuk merangsang pembentukan sel darah merah di dalam sumsum tulang. Pengambilan data sel darah merah dapat dilakukan dengan 3 cara yaitu, Hitung Sel Darah Merah(RBC Count), Hemoglobin (Hb) dan Hematokrit (Hct), dan Indeks Sel Darah Merah (MCV, MCH, MCHC). Untuk penjelasan sel darah merah dikatakan normal dan abnormal sebagai berikut :\n",
        "\n",
        "   >normal : Jumlah sel darah merah, kadar hemoglobin, dan parameter terkait dalam rentang normal menunjukkan fungsi normal sel darah merah. Tidak adanya anemia atau gangguan produksi sel darah merah.\n",
        "\n",
        "   >abnormal : Pengurangan jumlah sel darah merah, kadar hemoglobin, atau perubahan pada indeks sel darah merah bisa menjadi indikasi adanya anemia yang dapat terkait dengan PGK.\n",
        "\n",
        "7. Pus Cell (sel darah putih)\n",
        "\n",
        "   >pc - (normal,abnormal)\n",
        "\n",
        "   >Sel darah putih (leukosit) adalah sel-sel yang berperan dalam sistem kekebalan tubuh. Penyakit ginjal kronis (PGK) dapat mempengaruhi sistem kekebalan tubuh, dan perubahan pada jumlah sel darah putih dapat menjadi fitur yang diobservasi dalam klasifikasi PGK. Peningkatan jumlah sel darah putih dapat mencerminkan respon kekebalan tubuh terhadap peradangan atau infeksi yang terkait dengan PGK. Pengambilan data sel darah putih dapat dilakukan dengan 2 cara yaitu Tes Darah Rutin (Complete Blood Count/CBC) dan Darah Urin. Untuk penjelasan sel darah putih dikatakan normal dan abnormal sebagai berikut :\n",
        "   \n",
        "   >normal : Jumlah sel darah putih dalam darah biasanya berada dalam rentang normal yaitu berkisar antara 4,500−10.000 sel/mm³.\n",
        "\n",
        "   >abnormal : Terjadinya kekurangan atau kelebihan sel darah putih, untuk kekurangan sel darah merah yaitu sekitar 4.000 sel/mm³. Dan untuk kelebihan sel darah putih yaitu lebih dari angka 11.000 sel/mm³.\n",
        "\n",
        "8. Pus Cell clumps (gumpalan sel darah putih)\n",
        "\n",
        "   >pcc - (present,notpresent)\n",
        "\n",
        "   >Pus Cell Clumps  (klompok sel darah putih) dalam urin dapat menunjukkan adanya peradangan atau infeksi dalam sistem kemih, termasuk pada ginjal, yang dapat terkait dengan penyakit ginjal kronis (PGK). Pengambilan data sel darah putih dapat dilakukan dengan 2 cara yaitu Uji Urin Mikroskopis dan Strip Uji Urin. Untuk penjelasan Pus Cell clumps dikatakan present dan not present sebagai berikut :\n",
        "\n",
        "   >present : adanya peradangan atau infeksi dalam sistem kemih pada saat pemeriksaan urin.\n",
        "\n",
        "   >not present : tidak adanya peradangan atau infeksi dalam sistem kemih pada saat pemeriksaan urin.\n",
        "\n",
        "9. Bacteria (bakteri dalam urin)\n",
        "\n",
        "   >ba  - (present,notpresent)\n",
        "\n",
        "   >Bakteri dalam urin dapat menunjukkan adanya infeksi saluran kemih, yang bisa terkait dengan kondisi ginjal atau sistem kemih yang mendasari. Pengambilan data sel darah putih dapat dilakukan dengan cara uji laboratorium pada sampel urin menggunakan alat mikroskop atau alat tes kimia. Untuk penjelasan bacteria dikatakan present dan not present sebagai berikut :\n",
        "\n",
        "   >present : adanya keberadaan bakteri dalam sistem kemih pada saat pemeriksaan urin.\n",
        "\n",
        "   >not present : tidak adanya keberadaan bakteri dalam sistem kemih pada saat pemeriksaan urin.\n",
        "\n",
        "10. Blood Glucose Random (kadar glukosa darah)\n",
        "\n",
        "    >bgr in mgs/dl\n",
        "\n",
        "    >Glukosuria adalah kondisi terdapatnya ekskresi glukosa di dalam urine yang mengacu pada kondisi patologis seperti diabetes mellitus atau gangguan fungsi ginjal. Adanya ekskresi glukosa di dalam urine dapat terjadi pada keadaan dengan kadar glukosa plasma yang normal maupun kadar glukosa plasma yang tinggi. Diagnosis glukosuria dapat ditegakkan melalui pemeriksaan urinalisis. Bila pada pemeriksaan ditemukan kadar glukosa di atas 25 mg/dl pada urine segar acak (random fresh urine), maka pasien dapat dikatakan mengalami glukosuria.\n",
        "\n",
        "11. Blood Urea (kadar urea dalam darah)\n",
        "\n",
        "    >bu in mgs/dl\n",
        "\n",
        "    >Kadar ureum tinggi bisa menandakan bahwa ginjal Anda tidak berfungsi dengan baik. Idealnya, ginjal berfungsi menyaring dan membuang ureum dari darah melalui urine. Jika menumpuk di darah, ureum dapat menimbulkan beragam keluhan dan gangguan kesehatan. Ureum merupakan zat sisa dari pemecahan protein dan asam amino di dalam hati. Kadar ureum dapat diukur melalui tes blood urea nitrogen (BUN). Zat ini bersifat racun dan perlu segera dikeluarkan dari tubuh melalui ginjal. Batas normal kadar ureum berdasarkan usia dan jenis kelamin sebagai berikut :\n",
        "    - Pria dewasa: 8–24 mg/dL\n",
        "    - Wanita dewasa: 6–21 mg/dL\n",
        "    - Anak usia 1–17 tahun: 7–20 mg/dL\n",
        "\n",
        "\n",
        "12. Serum Creatinine (kadar kreatin dalam darah)\n",
        "\n",
        "    >sc in mgs/dl\n",
        "\n",
        "    >Kreatinin adalah zat limbah dalam darah yang diproduksi oleh jaringan otot saat Anda bergerak atau beraktivitas. Jumlah kreatinin di dalam darah diatur oleh ginjal. Itulah alasan mengapa pemeriksaan kadar kreatinin sering dilakukan sebagai salah satu cara untuk menilai fungsi ginjal.Normalnya, kreatinin dalam darah akan disaring oleh ginjal, lalu dibuang keluar melalui urine. Ketika ginjal bermasalah atau fungsinya terganggu, kreatinin tidak dapat disaring dengan baik. Hal ini dapat menyebabkan kadar kreatinin dalam darah meningkat dan dan menyebabkan fungsi ginjal terganggu.Kadar kreatinin normal dalam darah pada orang dewasa adalah 0,8–1,2 mg/dL. Namun, rentang nilai tersebut mungkin saja bervariasi pada setiap laboratorium.\n",
        "\n",
        "13. Sodium (kadar natrium dalam darah)\n",
        "\n",
        "    >sod in mEq/L\n",
        "\n",
        "    >Sodium adalah elektrolit yang sangat penting dalam tubuh dan memiliki peran dalam menjaga keseimbangan cairan, tekanan darah, dan fungsi saraf dan otot. Dalam konteks penyakit ginjal kronis (PGK), kadar sodium dalam tubuh dapat berubah akibat gangguan fungsi ginjal dan keseimbangan elektrolit yang terkait. Pengambilan data sel darah putih dapat dilakukan dengan 3 cara yaitu, Tes Elektrolit, Tes Fungsi Ginjal, dan Pemeriksaan Urine. Standar kebutuhan sodium seseorang dewasa berklisar antara 1500-2300 mg sodium.\n",
        "\n",
        "14. Potassium (kadar kalium dalam darah)\n",
        "\n",
        "    >pot in mEq/L\n",
        "\n",
        "    >Kalium atau potasium adalah mineral yang membantu tubuh menyeimbangkan cairan dan mendukung fungsi sel, saraf, dan otot. Senyawa ini ditemukan dalam berbagai tingkat di banyak makanan, terutama buah-buahan dan sayuran. Penting untuk memiliki keseimbangan kalium yang tepat dalam darah, dan kadar umumnya harus tetap antara 3,5 dan 5,0 milliequivalent per liter (mEq/L).\n",
        "\n",
        "15. Hemoglobin (kadar hemoglobin)\n",
        "\n",
        "    >hemo in gms\n",
        "\n",
        "    >Hemoglobin adalah protein dalam sel darah merah yang berperan penting dalam mengangkut oksigen dari paru-paru ke seluruh tubuh dan membawa karbon dioksida kembali ke paru-paru untuk dikeluarkan. Pengambilan data sel darah putih dapat dilakukan dengan 2 cara yaitu Tes Darah Rutin(Complete Blood Count/CBC) dan Uji Hematokrit. Kadar hemoglobin normal pada wanita dewasa berkisar antara 12–15 g/dL, sedangkan kadar hemoglobin pada pria dewasa berkisar antara 13–17 g/dL.\n",
        "\n",
        "16. Packed  Cell Volume (volume sel darah merah dalam darah)\n",
        "    \n",
        "    >Packed Cell Volume (PCV), juga dikenal sebagai Hematocrit, adalah ukuran persentase volume darah yang terdiri dari sel-sel darah merah. Meskipun PCV umumnya bukan fitur utama dalam klasifikasi penyakit ginjal kronis (PGK), perubahan dalam PCV dapat memberikan indikasi tentang kondisi kesehatan secara keseluruhan, termasuk kemungkinan dampak PGK terhadap produksi sel darah merah. Pengambilan data sel darah putih dapat dilakukan dengan 3 cara yaitu, Pengambilan Sampel Darah, Sentrifugasi, dan Pengukuran PCV. Rentang nilai normal PCV dapat bervariasi tergantung pada usia, jenis kelamin, dan faktor lainnya. Sebagai contoh, nilai normal PCV pada orang dewasa pria biasanya berkisar antara 38% hingga 52%, sementara pada wanita berkisar antara 33% hingga 47%.\n",
        "\n",
        "17. White Blood Cell Count (jumlah sel darah putih)\n",
        "    \n",
        "    >wc in cells/cumm\n",
        "\n",
        "    >Jumlah sel darah putih (leukosit) dalam darah memberikan informasi tentang respons sistem kekebalan tubuh terhadap infeksi atau peradangan yang dapat terkait dengan PGK. Pengambilan data sel darah putih dapat dilakukan dengan cara Tes Darah Rutin (Complete Blood Count/CBC). Jumlah sel darah putih yang normal adalah sekitar 5.000 – 10.000/cumm.\n",
        "\n",
        "18. Red Blood Cell Count (jumlah sel darah merah)\n",
        "\n",
        "    >rc in millions/cmm\n",
        "\n",
        "    >Red Blood Cell Count (RBC count) adalah pengukuran jumlah sel darah merah dalam satu volume tertentu dari darah. Pengukuran RBC count dapat memberikan informasi penting tentang kondisi kesehatan, termasuk kemungkinan adanya masalah ginjal. Dalam konteks penyakit ginjal kronis (PGK), perubahan pada RBC count dapat mencerminkan gangguan fungsi ginjal atau kondisi medis terkait. Pengambilan data sel darah merah dapat dilakukan dengan cara Tes Darah Rutin (Complete Blood Count/CBC). Jumlah sel darah merah normal berdasarkan rentang umur dan jenis kelamin sebagai berikut :\n",
        "    - Pria: 4,7 – 6,1 juta per mikroliter darah\n",
        "    - Wanita: 4,2 – 5,4 juta per mikroliter darah\n",
        "    - Anak-anak: 4 – 5,5 juta per mikroliter darah\n",
        "\n",
        "19. Hypertension (hipertensi)\n",
        "\n",
        "    >htn - (yes,no)\n",
        "\n",
        "    > Hipertensi atau tekanan darah tinggi adalah salah satu faktor risiko utama untuk perkembangan penyakit ginjal kronis (PGK). Kondisi ini dapat merusak pembuluh darah di ginjal dan menyebabkan kerusakan ginjal secara bertahap. Oleh karena itu, hipertensi sering diidentifikasi sebagai fitur atau faktor dalam klasifikasi penyakit ginjal kronis. Pengambilan data hipertensi dapat dilakukan dengan 3 cara yaitu, Pengukuran Tekanan Darah, Minoritas Tekanan Darah Berkala, dan Rekam Medis. Untuk penjelasan hipertensi dikatakan yes dan no sebagai berikut :\n",
        "\n",
        "    - yes : Jika tekanan darah pasien consistently (secara konsisten) berada di atas ambang batas normal (umumnya diukur sebagai 130/80 mmHg atau lebih tinggi), ini dapat dianggap sebagai indikasi hipertensi.\n",
        "\n",
        "    - no : Jika tekanan darah pasien consistently (secara konsisten) berada di dibawah ambang batas normal (kurang dari 130/80 mmHg), ini dapat dianggap sebagai tidak terindikasi hipertensi.\n",
        "    \n",
        "20. Diabetes Mellitus(keberadaan diabetes melitus)\n",
        "\n",
        "    >dm - (yes,no)\n",
        "\n",
        "    >Diabetes adalah penyakit kronis yang ditandai dengan tingginya kadar gula darah. Glukosa merupakan sumber energi utama bagi sel tubuh manusia. Akan tetapi, pada penderita diabetes, glukosa tersebut tidak dapat digunakan oleh tubuh. Pengambilan data hipertensi dapat dilakukan dengan 2 cara yaitu, Tes Glukosa Darah dan Riwayat Kesehatan. Untuk penjelasan Diabetes Melitus dikatakan yes dan no sebagai berikut :\n",
        "    \n",
        "    - yes : jika seseorang memiliki riwayat Diabetes Mellitus, hasil tes glukosa darah atau HbA1c yang positif, atau sedang menjalani pengobatan untuk diabetes mellitus, maka dapat dikategorikan sebagai \"Yes\" untuk diabetes mellitus.\n",
        "\n",
        "    - no : Jika seseorang tidak memiliki riwayat diabetes mellitus, hasil tes glukosa darah dalam kisaran normal, dan tidak sedang menjalani pengobatan untuk diabetes mellitus, maka dapat dikategorikan sebagai \"No\" untuk diabetes mellitus.\n",
        "\n",
        "21. Coronary Artery Disease (keberadaan penyakit arteri koroner)\n",
        "\n",
        "    >cad - (yes,no)\n",
        "\n",
        "    >Coronary Artery Disease (CAD) atau penyakit arteri koroner adalah suatu kondisi dimana pembuluh darah koroner yang memasok darah ke jantung mengalami penyempitan atau pemblokiran. Meskipun secara langsung tidak termasuk dalam klasifikasi penyakit ginjal kronis (PGK), tetapi PGK dan CAD seringkali saling terkait dan memiliki faktor risiko bersama seperti diabetes, hipertensi, dan gangguan metabolisme lipid. Pengambilan data  Coronary Artery Disease dapat dilakukan dengan melalui Riwayat Medis. Untuk penjelasan Coronary Artery Disease dikatakan yes dan no sebagai berikut :\n",
        "\n",
        "    - yes : Jika data menunjukkan adanya CAD, ini berarti bahwa pasien memiliki kondisi penyakit arteri koroner yang perlu dievaluasi dan dielola secara khusus.\n",
        "\n",
        "    - no : Jika data menunjukkan tidak adanya CAD, ini berarti bahwa pasien tidak memiliki penyakit arteri koroner berdasarkan informasi yang diperoleh.\n",
        "\n",
        "22. Appetite (kondisi nafsu makan)\n",
        "\n",
        "    >appet - (good,poor)\n",
        "\n",
        "    >Nafsu makan (appetite) dapat dipengaruhi oleh penyakit ginjal kronis (PGK) dan memiliki dampak yang signifikan pada kesehatan pasien, salah satunya dampaknya yaitu penurunan nafsu makan. Pengambilan data  Appetite dapat dilakukan dengan 3 cara yaitu Pengamatan klinis, Wawancara Pasien, dan Penggunaan Kuesioner. Untuk penjelasan appetite dikatakan good dan poor sebagai berikut :\n",
        "\n",
        "    - good : Pasien dengan nafsu makan yang baik, pola makan yang memadai, dan pertahankan berat badan yang normal mungkin memiliki status nutrisi yang baik. Ini dapat menunjukkan bahwa PGK mereka mungkin masih dalam tahap awal atau lebih terkontrol.\n",
        "\n",
        "    - poor : Pasien dengan penurunan nafsu makan, kehilangan berat badan yang signifikan, atau masalah nutrisi lainnya mungkin mengalami dampak lebih serius dari PGK. Kondisi ini dapat disebabkan oleh beberapa faktor, termasuk komplikasi PGK, efek samping dari pengobatan, atau penyakit lain yang terkait.\n",
        "\n",
        "23. Pedal Edema (keberadaan edema pada kaki)\n",
        "\n",
        "    >pe - (yes,no)\n",
        "\n",
        "    >Pedal edema merupakan suatu kondisi di mana terjadi penumpukan cairan di daerah pergelangan kaki atau bagian bawah tungkai. Edema seringkali menjadi gejala yang terkait dengan penyakit ginjal kronis (PGK) karena ginjal yang tidak berfungsi dengan baik mungkin gagal menyaring dan mengeluarkan cairan yang cukup dari tubuh.  Pengambilan data  Pedal edema dapat dilakukan dengan cara Pemeriksaan fisik. Untuk penjelasan Pedal Edma dikatakan yes dan no sebagai berikut :\n",
        "\n",
        "    - yes : Pedal edema terlihat atau terkonfirmasi melalui pemeriksaan fisik atau catatan pasien. Pembengkakan yang terlihat di daerah pergelangan kaki atau kaki dapat dianggap sebagai tanda pedal edema yang positif.\n",
        "\n",
        "    - no :Tidak ada tanda atau gejala edema yang terdeteksi pada pemeriksaan fisik atau melalui informasi yang diberikan oleh pasien. Pembengkakan tidak terjadi atau tidak dapat diidentifikasi.\n",
        "\n",
        "24. Anemia (keberadaan anemia)\n",
        "    \n",
        "    >ane - (yes,no)\n",
        "\n",
        "    >Anemia, atau kekurangan sel darah merah atau hemoglobin dalam darah, dapat terjadi pada penyakit ginjal kronis (PGK). Ginjal memiliki peran penting dalam pembentukan eritropoietin, hormon yang merangsang produksi sel darah merah dalam sumsum tulang. Gangguan pada ginjal dapat menyebabkan penurunan produksi eritropoietin dan berkontribusi pada perkembangan anemia pada pasien dengan PGK. Pengambilan data Anemia dapat dilakukan dengan cara 2 cara yaitu Tes Hemoglobin dan Hitung Jumlah Sel Darah Merah (RBC). Untuk penjelasan Anemia dikatakan yes dan no sebagai berikut :\n",
        "\n",
        "    - yes : jika hasil tes menunjukkan kadar hemoglobin yang rendah, hitung sel darah merah yang rendah, atau kadar zat besi yang rendah, ini dapat mengindikasikan adanya anemia yang terkait dengan penyakit ginjal kronis.\n",
        "\n",
        "    - no : Jika hasil tes menunjukkan kadar hemoglobin, hitung sel darah merah, dan kadar zat besi dalam kisaran normal, maka pasien mungkin tidak mengalami anemia yang terkait dengan PGK.\n",
        "\n",
        "25. Class (klasifikasi penyakit ginjal kronis)\n",
        "\n",
        "    >class - (ckd,notckd)\n",
        "\n",
        "    >Data bisa diperoleh dari diagnosis medis atau hasil tes medis yang relevan.\n"
      ]
    },
    {
      "cell_type": "markdown",
      "metadata": {
        "id": "XovVarBpG7pz"
      },
      "source": [
        "#### Visualisasi Data"
      ]
    },
    {
      "cell_type": "code",
      "execution_count": null,
      "metadata": {
        "colab": {
          "base_uri": "https://localhost:8080/",
          "height": 1000
        },
        "id": "bGEOxSjIG-gY",
        "outputId": "9e764ac2-6dfd-42fd-8ffc-3039664bfed7"
      },
      "outputs": [
        {
          "name": "stderr",
          "output_type": "stream",
          "text": [
            "<ipython-input-6-ccdb3d4bfc4c>:24: UserWarning: Glyph 9 (\t) missing from current font.\n",
            "  plt.tight_layout()\n",
            "/usr/local/lib/python3.10/dist-packages/IPython/core/pylabtools.py:151: UserWarning: Glyph 9 (\t) missing from current font.\n",
            "  fig.canvas.print_figure(bytes_io, **kw)\n"
          ]
        },
        {
          "data": {
            "image/png": "[encoded data removed]",
            "text/plain": [
              "<Figure size 1500x2700 with 27 Axes>"
            ]
          },
          "metadata": {},
          "output_type": "display_data"
        }
      ],
      "source": [
        "import matplotlib.pyplot as plt\n",
        "\n",
        "# df adalah DataFrame Anda\n",
        "# Ganti dengan data sesuai kebutuhan Anda\n",
        "\n",
        "# Menentukan jumlah kolom yang ingin ditampilkan\n",
        "num_cols = min(26, len(df.columns))  # Maksimal menampilkan 25 kolom\n",
        "\n",
        "# Menentukan jumlah baris dan kolom untuk tata letak subplot\n",
        "num_rows = (num_cols // 3) + int(num_cols % 3 != 0)\n",
        "\n",
        "# Menentukan ukuran gambar\n",
        "fig, axes = plt.subplots(num_rows, 3, figsize=(15, num_rows * 3))\n",
        "\n",
        "# Melakukan loop untuk membuat histogram untuk setiap kolom\n",
        "for i in range(num_rows):\n",
        "    for j in range(3):\n",
        "        col_index = i * 3 + j\n",
        "        if col_index < num_cols:\n",
        "            df[df.columns[col_index]].hist(ax=axes[i, j], bins=20)\n",
        "            axes[i, j].set_title(df.columns[col_index])\n",
        "\n",
        "# Menyesuaikan tata letak\n",
        "plt.tight_layout()\n",
        "plt.show()\n"
      ]
    },
    {
      "cell_type": "markdown",
      "metadata": {
        "id": "9wBAoPamCZFm"
      },
      "source": [
        "### Mengidentifikasi missing value"
      ]
    },
    {
      "cell_type": "markdown",
      "metadata": {
        "id": "8WLiizWKCmMe"
      },
      "source": [
        "Missing value, atau nilai yang hilang, merujuk pada keadaan di mana suatu variabel dalam data tidak memiliki nilai atau informasi yang tersedia. Keberadaan missing value dapat disebabkan oleh berbagai faktor, seperti kesalahan pengukuran, kelalaian dalam pengumpulan data, atau sengaja diabaikan. Dalam analisis data, penanganan yang tepat terhadap missing value penting karena dapat memengaruhi keakuratan dan interpretasi hasil analisis. Metode penanganan missing value melibatkan strategi seperti penghapusan data yang hilang, imputasi nilai (pengisian nilai yang hilang), atau teknik lain yang sesuai dengan karakteristik data dan tujuan analisis."
      ]
    },
    {
      "cell_type": "code",
      "execution_count": null,
      "metadata": {
        "colab": {
          "base_uri": "https://localhost:8080/"
        },
        "id": "tKbGj0emyWMT",
        "outputId": "9788b97a-75b7-4e7b-804f-6542fb52c94d"
      },
      "outputs": [
        {
          "name": "stdout",
          "output_type": "stream",
          "text": [
            "Apakah ada nilai yang hilang dalam setiap kolom:\n",
            "id                False\n",
            "age                True\n",
            "bp                 True\n",
            "sg                 True\n",
            "al                 True\n",
            "su                 True\n",
            "rbc                True\n",
            "pc                 True\n",
            "pcc                True\n",
            "ba                 True\n",
            "bgr                True\n",
            "bu                 True\n",
            "sc                 True\n",
            "sod                True\n",
            "pot                True\n",
            "hemo               True\n",
            "pcv                True\n",
            "wc                 True\n",
            "rc                 True\n",
            "htn                True\n",
            "dm                 True\n",
            "cad                True\n",
            "appet              True\n",
            "pe                 True\n",
            "ane                True\n",
            "classification    False\n",
            "dtype: bool\n"
          ]
        }
      ],
      "source": [
        "# Menghitung apakah ada nilai yang hilang dalam setiap kolom\n",
        "missing_values = df.isna().any()\n",
        "\n",
        "# Menampilkan hasil\n",
        "print(\"Apakah ada nilai yang hilang dalam setiap kolom:\")\n",
        "print(missing_values)"
      ]
    },
    {
      "cell_type": "markdown",
      "metadata": {
        "id": "SbXJyr6_DY4x"
      },
      "source": [
        "Noted : Terdapat *missing value* pada data"
      ]
    },
    {
      "cell_type": "markdown",
      "metadata": {
        "id": "jpIC9M9MEA2Y"
      },
      "source": [
        "Jumlah *missing value* pada tiap data"
      ]
    },
    {
      "cell_type": "code",
      "execution_count": null,
      "metadata": {
        "colab": {
          "base_uri": "https://localhost:8080/"
        },
        "id": "-uB6EpL4DEzi",
        "outputId": "e2843a6a-8c4a-4b38-8c11-88fd7db77808"
      },
      "outputs": [
        {
          "name": "stdout",
          "output_type": "stream",
          "text": [
            "Jumlah Missing Values dalam Setiap Kolom:\n",
            "id                  0\n",
            "age                 9\n",
            "bp                 12\n",
            "sg                 47\n",
            "al                 46\n",
            "su                 49\n",
            "rbc               152\n",
            "pc                 65\n",
            "pcc                 4\n",
            "ba                  4\n",
            "bgr                44\n",
            "bu                 19\n",
            "sc                 17\n",
            "sod                87\n",
            "pot                88\n",
            "hemo               52\n",
            "pcv                70\n",
            "wc                105\n",
            "rc                130\n",
            "htn                 2\n",
            "dm                  2\n",
            "cad                 2\n",
            "appet               1\n",
            "pe                  1\n",
            "ane                 1\n",
            "classification      0\n",
            "dtype: int64\n"
          ]
        }
      ],
      "source": [
        "missing_values = df.isnull().sum()\n",
        "print(\"Jumlah Missing Values dalam Setiap Kolom:\")\n",
        "print(missing_values)"
      ]
    },
    {
      "cell_type": "markdown",
      "metadata": {
        "id": "ttUkZjMXI86B"
      },
      "source": [
        "Terdapat banyak sekali missing value hampir di semua fitur. Untuk mengatasi hal tersebut perlu dilakukan pengisian data terhadap missing value dengan menggunakan mean atau rata-rata"
      ]
    },
    {
      "cell_type": "markdown",
      "metadata": {
        "id": "F0CrQ7akEUsy"
      },
      "source": [
        "### Duplikat data"
      ]
    },
    {
      "cell_type": "markdown",
      "metadata": {
        "id": "DqZtACbJrm6m"
      },
      "source": [
        "Duplikat data merujuk pada keberadaan entri atau baris data yang identik atau serupa dalam dataset. Duplikasi data bisa terjadi karena beberapa sebab, seperti kesalahan input, duplikasi data saat penggabungan dataset, atau kesalahan dalam proses pengumpulan data. Identifikasi dan penanganan duplikat data penting dalam analisis data karena bisa memengaruhi hasil secara tidak akurat, serta dapat memengaruhi kebijakan atau keputusan yang diambil berdasarkan data tersebut. Proses penanganan duplikat dapat melibatkan penghapusan baris yang sama atau mengkonsolidasikan informasi dari entri yang duplikat."
      ]
    },
    {
      "cell_type": "code",
      "execution_count": null,
      "metadata": {
        "colab": {
          "base_uri": "https://localhost:8080/"
        },
        "id": "62fd4LE2EL6r",
        "outputId": "ad6ac906-5193-4b94-dc2f-0b257ac5e93c"
      },
      "outputs": [
        {
          "name": "stdout",
          "output_type": "stream",
          "text": [
            "Jumlah data yang duplikat: 0\n"
          ]
        }
      ],
      "source": [
        "jumlah_duplikat = df.duplicated().sum()\n",
        "\n",
        "# Menampilkan jumlah data yang duplikat\n",
        "print(\"Jumlah data yang duplikat:\", jumlah_duplikat)"
      ]
    },
    {
      "cell_type": "markdown",
      "metadata": {
        "id": "vcIBmjrqEgN4"
      },
      "source": [
        "Noted : **tidak terdapat** beberapa baris data yang sama, sehingga data tersebut **tidak perlu** dihilangkan untuk menghindari adanya data yang redundan"
      ]
    },
    {
      "cell_type": "markdown",
      "metadata": {
        "id": "tTFN30ktG14G"
      },
      "source": [
        "### Mengidentifikasi Karakter Khusus\n",
        "\n",
        "Identifikasi karakter khusus adalah proses mengenali dan memahami keberadaan karakter yang tidak umum atau khusus dalam suatu dataset. Karakter khusus dapat termasuk simbol-simbol tertentu, spasi yang tidak terlihat, atau karakter lain yang tidak sesuai dengan format atau tipe data yang diharapkan."
      ]
    },
    {
      "cell_type": "code",
      "execution_count": null,
      "metadata": {
        "colab": {
          "base_uri": "https://localhost:8080/"
        },
        "id": "jmT-z2d1HRI3",
        "outputId": "9dcd0d10-b73f-4f55-a5b4-064004aed715"
      },
      "outputs": [
        {
          "name": "stdout",
          "output_type": "stream",
          "text": [
            "Kolom 'pcv': Karakter khusus terdeteksi - '\t?'\n",
            "Kolom 'pcv': Karakter khusus terdeteksi - '\t43'\n",
            "Kolom 'wc': Karakter khusus terdeteksi - '\t6200'\n",
            "Kolom 'wc': Karakter khusus terdeteksi - '\t8400'\n",
            "Kolom 'wc': Karakter khusus terdeteksi - '\t?'\n",
            "Kolom 'rc': Karakter khusus terdeteksi - '5.2'\n",
            "Kolom 'rc': Karakter khusus terdeteksi - '3.9'\n",
            "Kolom 'rc': Karakter khusus terdeteksi - '4.6'\n",
            "Kolom 'rc': Karakter khusus terdeteksi - '4.4'\n",
            "Kolom 'rc': Karakter khusus terdeteksi - '4.0'\n",
            "Kolom 'rc': Karakter khusus terdeteksi - '3.7'\n",
            "Kolom 'rc': Karakter khusus terdeteksi - '3.8'\n",
            "Kolom 'rc': Karakter khusus terdeteksi - '3.4'\n",
            "Kolom 'rc': Karakter khusus terdeteksi - '2.6'\n",
            "Kolom 'rc': Karakter khusus terdeteksi - '2.8'\n",
            "Kolom 'rc': Karakter khusus terdeteksi - '4.3'\n",
            "Kolom 'rc': Karakter khusus terdeteksi - '3.2'\n",
            "Kolom 'rc': Karakter khusus terdeteksi - '3.6'\n",
            "Kolom 'rc': Karakter khusus terdeteksi - '4.1'\n",
            "Kolom 'rc': Karakter khusus terdeteksi - '4.9'\n",
            "Kolom 'rc': Karakter khusus terdeteksi - '2.5'\n",
            "Kolom 'rc': Karakter khusus terdeteksi - '4.2'\n",
            "Kolom 'rc': Karakter khusus terdeteksi - '4.5'\n",
            "Kolom 'rc': Karakter khusus terdeteksi - '3.1'\n",
            "Kolom 'rc': Karakter khusus terdeteksi - '4.7'\n",
            "Kolom 'rc': Karakter khusus terdeteksi - '3.5'\n",
            "Kolom 'rc': Karakter khusus terdeteksi - '6.0'\n",
            "Kolom 'rc': Karakter khusus terdeteksi - '5.0'\n",
            "Kolom 'rc': Karakter khusus terdeteksi - '2.1'\n",
            "Kolom 'rc': Karakter khusus terdeteksi - '5.6'\n",
            "Kolom 'rc': Karakter khusus terdeteksi - '2.3'\n",
            "Kolom 'rc': Karakter khusus terdeteksi - '2.9'\n",
            "Kolom 'rc': Karakter khusus terdeteksi - '2.7'\n",
            "Kolom 'rc': Karakter khusus terdeteksi - '8.0'\n",
            "Kolom 'rc': Karakter khusus terdeteksi - '3.3'\n",
            "Kolom 'rc': Karakter khusus terdeteksi - '3.0'\n",
            "Kolom 'rc': Karakter khusus terdeteksi - '2.4'\n",
            "Kolom 'rc': Karakter khusus terdeteksi - '4.8'\n",
            "Kolom 'rc': Karakter khusus terdeteksi - '\t?'\n",
            "Kolom 'rc': Karakter khusus terdeteksi - '5.4'\n",
            "Kolom 'rc': Karakter khusus terdeteksi - '6.1'\n",
            "Kolom 'rc': Karakter khusus terdeteksi - '6.2'\n",
            "Kolom 'rc': Karakter khusus terdeteksi - '6.3'\n",
            "Kolom 'rc': Karakter khusus terdeteksi - '5.1'\n",
            "Kolom 'rc': Karakter khusus terdeteksi - '5.8'\n",
            "Kolom 'rc': Karakter khusus terdeteksi - '5.5'\n",
            "Kolom 'rc': Karakter khusus terdeteksi - '5.3'\n",
            "Kolom 'rc': Karakter khusus terdeteksi - '6.4'\n",
            "Kolom 'rc': Karakter khusus terdeteksi - '5.7'\n",
            "Kolom 'rc': Karakter khusus terdeteksi - '5.9'\n",
            "Kolom 'rc': Karakter khusus terdeteksi - '6.5'\n",
            "Kolom 'dm': Karakter khusus terdeteksi - '\tno'\n",
            "Kolom 'dm': Karakter khusus terdeteksi - '\tyes'\n",
            "Kolom 'cad': Karakter khusus terdeteksi - '\tno'\n",
            "Kolom 'classification': Karakter khusus terdeteksi - 'ckd\t'\n"
          ]
        }
      ],
      "source": [
        "import pandas as pd\n",
        "\n",
        "\n",
        "# Loop melalui setiap kolom dan cek nilai unik untuk mendeteksi karakter khusus\n",
        "for column in df.columns:\n",
        "    unique_values = df[column].unique()\n",
        "\n",
        "    # Tampilkan nama kolom dan nilai unik yang mengandung karakter khusus\n",
        "    for value in unique_values:\n",
        "        if isinstance(value, str) and (any(not c.isalnum() and not c.isspace() for c in value) or '\\t' in value):\n",
        "            print(f\"Kolom '{column}': Karakter khusus terdeteksi - '{value}'\")\n"
      ]
    },
    {
      "cell_type": "markdown",
      "metadata": {
        "id": "26j6vWzJMVEb"
      },
      "source": [
        "Noted : Diperoleh terdapat beberpa kolom yang memiliki karakter khusus tab ('\\t') pada kolom 'pcv', 'wc', 'rc', 'dm', dan 'cad' dan juga terdapat kesalahan konversi tipe data pada kolom 'rc'"
      ]
    },
    {
      "cell_type": "markdown",
      "metadata": {
        "id": "1808Diy_E2Xb"
      },
      "source": [
        "### Mengidentifikasi Outlier\n",
        "\n",
        "Outlier Pada Data adalah nilai yang berbeda dari yang lain dimana perbedaannya sangat jauh dengan sekumpulan data yang lain dalam satu kolom.Keberadaan Outlier sendiri dinilai dapat mengganggu analisis statistik dan kesimpulan yang diambil dari data karena mereka bisa menyebabkan pergeseran rata-rata atau mengganggu distribusi data secara keseluruhan. Maka dari itu, pada data penyakit ginjal kronis ini perlu dilakukan identifikasi outlier pada data. Untuk menentukan outlier pada data dapat dengan menggunakan metode Local Outlier Factor."
      ]
    },
    {
      "cell_type": "markdown",
      "metadata": {
        "id": "Y2r5k2Ukx8XV"
      },
      "source": [
        "#### LOCAL OUTLIER FACTOR\n",
        "---\n",
        "Adalah metode yang digunakan untuk mendeteksi outlier dalam data dengan memperhatikan konteks lokal dari setiap data poin. LOF menghitung seberapa \"aneh\" atau tidak biasa suatu poin data jika dibandingkan dengan tetangga-tetangganya. Poin yang memiliki LOF tinggi dibandingkan dengan tetangganya dapat dianggap sebagai outlier.\n",
        "\n",
        "Adapun tahap-tahp untuk mengidentifikasi outlier pada data dengan menggunakan Local Outlier Factor :\n",
        "\n",
        "1. Hitung Jarak Antar Data\n",
        "dimana jarak yang dihitung adalah jarak titik yang akan dievaluasi dengan semua titik didalam satu baris. Perhitungan Jarak dilakukan menggunakan perhitungan jarak euclidean.\n",
        "$$\n",
        "\\text{distance}(p, q) = \\sqrt{\\sum_{i=1}^{n}(p_i - q_i)^2}\n",
        "$$\n",
        "dimana :\n",
        "p = titik yang akan dievaluasi\n",
        "q = titik selain titik p\n",
        "\n",
        "2. Hitung Kepadatan Lokal\n",
        "Setelah jarak diketahui, maka selanjutnya kepadatan lokal dari titik data tersebut perlu dihitung. Kepadatan lokal dapat dihitung dengan membandingkan jumlah titik-titik tetangga dalam jarak tertentu (radius) terhadap titik data yang sedang dievaluasi.\n",
        "$$\n",
        "\\text{Local Density}(p) = \\frac{\\text{jumlah tetangga dalam radius}}{\\text{jumlah total data}}\n",
        "$$\n",
        "\n",
        "3. Hitung Local Reachability Density(LRD)\n",
        "Hitung kepadatan jarak (reachability distance) dari titik data (p) terhadap tetangganya (q).\n",
        "Local Reachability Density dari titik p terhadap tetangga q dihitung sebagai rata-rata dari jarak antara q dan p terhadap tetangga q:\n",
        "$$\n",
        "\\text{reachdist}(p, q) = \\max(\\text{distance}(p, q), \\text{radius})\n",
        "$$\n",
        "\n",
        "$$\n",
        "\\text{Local Reachability Density}(p) = \\frac{1}{\\text{jumlah tetangga}} \\sum_{q \\in N_{\\text{radius}}(p)} \\frac{\\text{reachdist}(p, q)}{\\text{density}(q)}\n",
        "$$\n",
        "\n",
        "dimana:\n",
        "-  N radius(p) adalah himpunan tetangga dalam radius tertentu radius dari titik p.\n",
        "-  density(q) adalah kepadatan lokal dari tetangga q.\n",
        "\n",
        "4. Hitung Nilai LOF\n",
        "LOF dari suatu titik data (p) dihitung sebagai rasio dari rata-rata Local Reachability Density dari tetangganya terhadap kepadatan lokalnya sendiri:\n",
        "$$\n",
        "\\text{LOF}(p) = \\frac{1}{\\text{jumlah tetangga}} \\sum_{q \\in N_{\\text{radius}}(p)} \\frac{\\text{Local Reachability Density}(q)}{\\text{Local Reachability Density}(p)}\n",
        "$$\n",
        "\n",
        "dimana :\n",
        "LOF yang tinggi menunjukkan bahwa titik tersebut memiliki kepadatan lokal yang lebih rendah dibandingkan dengan tetangganya, sehingga cenderung menjadi outlier.\n",
        "\n",
        "Contoh Kasus, untuk mencari outlier pada data misalkan terdapat tabel seperti dibawah ini:\n",
        "\n",
        "| X | Y |\n",
        "|---|---|\n",
        "| 1 | 4 |\n",
        "| 2 | 3 |\n",
        "| 3 | 8 |\n",
        "| 7 | 2 |\n",
        "| 5 | 9 |\n",
        "\n",
        "- Langkah 1 : Hitung Jarak Antar Data lalu nilai radius yang diambil adalah  5\n",
        "\n",
        "| X | Y | Jarak |\n",
        "|---|---|-------|\n",
        "| 1 | 4 | 1,41 ; 4,47 ; 4,47 |\n",
        "| 2 | 3 | 1,41 ; 3,16 |\n",
        "| 3 | 8 | 4,47 |\n",
        "| 5 | 2 | 4,47 ; 3,16 ; 4,24 |\n",
        "| 8 | 5 | 4,24 |\n",
        "\n",
        "- Langkah 2 : Hitung jumlah tetangga dalam radius 5\n",
        "\n",
        "| X | Y | Jumlah Tetangga |\n",
        "|---|---|-------|\n",
        "| 1 | 4 | 3 |\n",
        "| 2 | 3 | 2 |\n",
        "| 3 | 8 | 1 |\n",
        "| 5 | 2 | 3 |\n",
        "| 8 | 5 | 1 |\n",
        "\n",
        "- Langkah 3 : Hitung Local Reachability Density\n",
        "\n",
        "| X | Y | Jarak |\n",
        "|---|---|-------|\n",
        "| 1 | 4 | (1,41 + 4,47 + 4,47) / 3 = 3,45|\n",
        "| 2 | 3 | (1,41 + 3,16) /2 = 2,285|\n",
        "| 3 | 8 | 4,47 |\n",
        "| 5 | 2 | (4,47 + 3,16 + 4,24) / 3 = 3,95 |\n",
        "| 8 | 5 | 4,24 |\n",
        "\n",
        "- Langkah 4 : Menghitung nilai LOF data\n",
        "\n",
        "| X | Y | LOF |\n",
        "|---|---|-------|\n",
        "| 1 | 4 | (1/3,45) x ((2,285 + 4,47 + 3,95) / 3) = 1,03 |\n",
        "| 2 | 3 | (1/2,285) x ((3,45 + 3,95) / 2) = 1,61 |\n",
        "| 3 | 8 | (1/4,47) x ((3,45)) = 0,77 |\n",
        "| 5 | 2 | (1/3,95) x ((3,45 + 2,285 + 4,24) / 3) = 0,83|\n",
        "| 8 | 5 | (1/4,24) x ((3,95)) = 0.936|\n",
        "\n",
        "Dengan begitu, nilai yang berkemungkinan menjadi outlier adalah baris 2 dan baris 1\n",
        "\n",
        "Inter Pretasi Local Outlier Factor :\n",
        "\n",
        "- Jika LOF > 1, itu menunjukkan bahwa kepadatan lokal dari titik p lebih rendah daripada rata-rata kepadatan lokal dari tetangganya. Artinya, titik tersebut memiliki sifat yang \"aneh\" atau berbeda dari lingkungan sekitarnya dan cenderung menjadi outlier.\n",
        "- Jika LOF ≈ 1, itu menunjukkan bahwa kepadatan lokal dari titik p mirip dengan rata-rata kepadatan lokal tetangganya.\n",
        "- Jika LOF < 1, itu menunjukkan bahwa kepadatan lokal dari titik p lebih tinggi daripada rata-rata kepadatan lokal dari tetangganya, sehingga cenderung menjadi titik yang tidak aneh.\n",
        "\n"
      ]
    },
    {
      "cell_type": "code",
      "execution_count": null,
      "metadata": {
        "colab": {
          "base_uri": "https://localhost:8080/"
        },
        "id": "vlqJiEvCpKov",
        "outputId": "bdddfbd1-b815-4431-8954-16e7c4c896ca"
      },
      "outputs": [
        {
          "name": "stdout",
          "output_type": "stream",
          "text": [
            "Indeks outlier: [ 21  61  65  66  73  88 106 141 148 175 197 214 230 235 249 255 295 302\n",
            " 349]\n",
            "Jumlah outlier: 19\n"
          ]
        }
      ],
      "source": [
        "from sklearn.impute import SimpleImputer\n",
        "from sklearn.preprocessing import StandardScaler\n",
        "from sklearn.neighbors import LocalOutlierFactor\n",
        "import numpy as np\n",
        "import pandas as pd\n",
        "\n",
        "\n",
        "# Membagi data menjadi numerik dan kategorikal\n",
        "numerical_cols = df.select_dtypes(include=['int', 'float']).columns\n",
        "categorical_cols = df.select_dtypes(include='object').columns\n",
        "\n",
        "# Menggunakan SimpleImputer untuk mengisi nilai yang hilang dengan mean (dapat disesuaikan)\n",
        "imputer = SimpleImputer(strategy='mean')\n",
        "df[numerical_cols] = imputer.fit_transform(df[numerical_cols])\n",
        "\n",
        "# Label Encoding untuk kolom kategorikal\n",
        "from sklearn.preprocessing import LabelEncoder\n",
        "\n",
        "label_encoder = LabelEncoder()\n",
        "df[categorical_cols] = df[categorical_cols].apply(lambda col: label_encoder.fit_transform(col))\n",
        "\n",
        "# Menggabungkan kolom numerik dan kategorikal\n",
        "selected_data = df[numerical_cols.union(categorical_cols)]\n",
        "\n",
        "# Normalisasi df numerik\n",
        "scaler = StandardScaler()\n",
        "selected_data[numerical_cols] = scaler.fit_transform(selected_data[numerical_cols])\n",
        "\n",
        "# Membuat model LOF\n",
        "clf = LocalOutlierFactor(n_neighbors=20)  # Jumlah tetangga yang digunakan\n",
        "outlier_scores = clf.fit_predict(selected_data)\n",
        "\n",
        "# Menampilkan indeks outlier\n",
        "outlier_indices = np.where(outlier_scores == -1)[0]\n",
        "print(\"Indeks outlier:\", outlier_indices)\n",
        "print(\"Jumlah outlier:\", len(outlier_indices))\n"
      ]
    },
    {
      "cell_type": "markdown",
      "metadata": {
        "id": "rZwDTOBX4AOi"
      },
      "source": [
        "Noted : Terdapat outlier berjumlah 19 outlier."
      ]
    },
    {
      "cell_type": "markdown",
      "metadata": {
        "id": "SBZnOwccqmeQ"
      },
      "source": [
        "**Kesimpulan :**\n",
        "1. Data memiliki missing values\n",
        "2. Data tidak memiliki data redundan\n",
        "3. Terdapat karakter khusus pada data dan kesalahan konversi tipe data\n",
        "3. Data memiliki outlier berjumlah 19\n",
        "4. Perbandingan proporsi data tiap target tidak terlalu jauh sehingga tidak perlu di seimbangkan menggunakan metode UnderSampling"
      ]
    },
    {
      "cell_type": "markdown",
      "metadata": {
        "id": "EFytSpzsukIq"
      },
      "source": [
        "\n",
        "\n",
        "---\n",
        "\n",
        "\n",
        "\n",
        "\n"
      ]
    },
    {
      "cell_type": "markdown",
      "metadata": {
        "id": "-WSwWsULunWe"
      },
      "source": [
        "##3. Data Preprocessing\n",
        "\n",
        "Tahap preprocessing adalah tahapan untuk mempersiapkan data sebelum dilakukan pembuatan model. Pada tahap preprocessing, data akan dibersihkan, diubah, dan disesuaikan agar data sesuai dengan kebutuhan pada model machine learning yang akan digunakan.\n",
        "Tahap preprocessing merupakan langkah-langkah untuk membersihkan dan menyiapkan data sebelum memasukkan ke dalam model.\n",
        "\n",
        "\n",
        "---\n"
      ]
    },
    {
      "cell_type": "markdown",
      "metadata": {
        "id": "sQ4r_38Vu4EE"
      },
      "source": [
        "Setelah memahami data, akan dilakukan tahap preprocessing untuk menangani masalah pada data yang sudah didefinisikan pada Data Understanding, yakni.\n",
        "1. Menghapus karakter khusus dan mengubah kesalahan konversi tipe data\n",
        "2. Mengisi data missing value\n",
        "3. menghapus Outlier\n",
        "\n",
        "Setelah data siap, akan dilakukan :\n",
        "1. Skoring tiap fitur kembali\n",
        "2. Normalisasi Data\n",
        "3. Eksplorasi Model"
      ]
    },
    {
      "cell_type": "code",
      "execution_count": null,
      "metadata": {
        "colab": {
          "base_uri": "https://localhost:8080/",
          "height": 236
        },
        "id": "dMlWv94NqHz8",
        "outputId": "ec7182b8-4627-4f00-9570-372591aec085"
      },
      "outputs": [
        {
          "data": {
            "text/html": [
              "\n",
              "  <div id=\"df-e21029e9-77ed-4b57-8617-9e0572408f07\" class=\"colab-df-container\">\n",
              "    <div>\n",
              "<style scoped>\n",
              "    .dataframe tbody tr th:only-of-type {\n",
              "        vertical-align: middle;\n",
              "    }\n",
              "\n",
              "    .dataframe tbody tr th {\n",
              "        vertical-align: top;\n",
              "    }\n",
              "\n",
              "    .dataframe thead th {\n",
              "        text-align: right;\n",
              "    }\n",
              "</style>\n",
              "<table border=\"1\" class=\"dataframe\">\n",
              "  <thead>\n",
              "    <tr style=\"text-align: right;\">\n",
              "      <th></th>\n",
              "      <th>id</th>\n",
              "      <th>age</th>\n",
              "      <th>bp</th>\n",
              "      <th>sg</th>\n",
              "      <th>al</th>\n",
              "      <th>su</th>\n",
              "      <th>rbc</th>\n",
              "      <th>pc</th>\n",
              "      <th>pcc</th>\n",
              "      <th>ba</th>\n",
              "      <th>...</th>\n",
              "      <th>pcv</th>\n",
              "      <th>wc</th>\n",
              "      <th>rc</th>\n",
              "      <th>htn</th>\n",
              "      <th>dm</th>\n",
              "      <th>cad</th>\n",
              "      <th>appet</th>\n",
              "      <th>pe</th>\n",
              "      <th>ane</th>\n",
              "      <th>classification</th>\n",
              "    </tr>\n",
              "  </thead>\n",
              "  <tbody>\n",
              "    <tr>\n",
              "      <th>0</th>\n",
              "      <td>0</td>\n",
              "      <td>48.0</td>\n",
              "      <td>80.0</td>\n",
              "      <td>1.020</td>\n",
              "      <td>1.0</td>\n",
              "      <td>0.0</td>\n",
              "      <td>NaN</td>\n",
              "      <td>normal</td>\n",
              "      <td>notpresent</td>\n",
              "      <td>notpresent</td>\n",
              "      <td>...</td>\n",
              "      <td>44</td>\n",
              "      <td>7800</td>\n",
              "      <td>5.2</td>\n",
              "      <td>yes</td>\n",
              "      <td>yes</td>\n",
              "      <td>no</td>\n",
              "      <td>good</td>\n",
              "      <td>no</td>\n",
              "      <td>no</td>\n",
              "      <td>ckd</td>\n",
              "    </tr>\n",
              "    <tr>\n",
              "      <th>1</th>\n",
              "      <td>1</td>\n",
              "      <td>7.0</td>\n",
              "      <td>50.0</td>\n",
              "      <td>1.020</td>\n",
              "      <td>4.0</td>\n",
              "      <td>0.0</td>\n",
              "      <td>NaN</td>\n",
              "      <td>normal</td>\n",
              "      <td>notpresent</td>\n",
              "      <td>notpresent</td>\n",
              "      <td>...</td>\n",
              "      <td>38</td>\n",
              "      <td>6000</td>\n",
              "      <td>NaN</td>\n",
              "      <td>no</td>\n",
              "      <td>no</td>\n",
              "      <td>no</td>\n",
              "      <td>good</td>\n",
              "      <td>no</td>\n",
              "      <td>no</td>\n",
              "      <td>ckd</td>\n",
              "    </tr>\n",
              "    <tr>\n",
              "      <th>2</th>\n",
              "      <td>2</td>\n",
              "      <td>62.0</td>\n",
              "      <td>80.0</td>\n",
              "      <td>1.010</td>\n",
              "      <td>2.0</td>\n",
              "      <td>3.0</td>\n",
              "      <td>normal</td>\n",
              "      <td>normal</td>\n",
              "      <td>notpresent</td>\n",
              "      <td>notpresent</td>\n",
              "      <td>...</td>\n",
              "      <td>31</td>\n",
              "      <td>7500</td>\n",
              "      <td>NaN</td>\n",
              "      <td>no</td>\n",
              "      <td>yes</td>\n",
              "      <td>no</td>\n",
              "      <td>poor</td>\n",
              "      <td>no</td>\n",
              "      <td>yes</td>\n",
              "      <td>ckd</td>\n",
              "    </tr>\n",
              "    <tr>\n",
              "      <th>3</th>\n",
              "      <td>3</td>\n",
              "      <td>48.0</td>\n",
              "      <td>70.0</td>\n",
              "      <td>1.005</td>\n",
              "      <td>4.0</td>\n",
              "      <td>0.0</td>\n",
              "      <td>normal</td>\n",
              "      <td>abnormal</td>\n",
              "      <td>present</td>\n",
              "      <td>notpresent</td>\n",
              "      <td>...</td>\n",
              "      <td>32</td>\n",
              "      <td>6700</td>\n",
              "      <td>3.9</td>\n",
              "      <td>yes</td>\n",
              "      <td>no</td>\n",
              "      <td>no</td>\n",
              "      <td>poor</td>\n",
              "      <td>yes</td>\n",
              "      <td>yes</td>\n",
              "      <td>ckd</td>\n",
              "    </tr>\n",
              "    <tr>\n",
              "      <th>4</th>\n",
              "      <td>4</td>\n",
              "      <td>51.0</td>\n",
              "      <td>80.0</td>\n",
              "      <td>1.010</td>\n",
              "      <td>2.0</td>\n",
              "      <td>0.0</td>\n",
              "      <td>normal</td>\n",
              "      <td>normal</td>\n",
              "      <td>notpresent</td>\n",
              "      <td>notpresent</td>\n",
              "      <td>...</td>\n",
              "      <td>35</td>\n",
              "      <td>7300</td>\n",
              "      <td>4.6</td>\n",
              "      <td>no</td>\n",
              "      <td>no</td>\n",
              "      <td>no</td>\n",
              "      <td>good</td>\n",
              "      <td>no</td>\n",
              "      <td>no</td>\n",
              "      <td>ckd</td>\n",
              "    </tr>\n",
              "  </tbody>\n",
              "</table>\n",
              "<p>5 rows × 26 columns</p>\n",
              "</div>\n",
              "    <div class=\"colab-df-buttons\">\n",
              "\n",
              "  <div class=\"colab-df-container\">\n",
              "    <button class=\"colab-df-convert\" onclick=\"convertToInteractive('df-e21029e9-77ed-4b57-8617-9e0572408f07')\"\n",
              "            title=\"Convert this dataframe to an interactive table.\"\n",
              "            style=\"display:none;\">\n",
              "\n",
              "  <svg xmlns=\"http://www.w3.org/2000/svg\" height=\"24px\" viewBox=\"0 -960 960 960\">\n",
              "    <path d=\"M120-120v-720h720v720H120Zm60-500h600v-160H180v160Zm220 220h160v-160H400v160Zm0 220h160v-160H400v160ZM180-400h160v-160H180v160Zm440 0h160v-160H620v160ZM180-180h160v-160H180v160Zm440 0h160v-160H620v160Z\"/>\n",
              "  </svg>\n",
              "    </button>\n",
              "\n",
              "  <style>\n",
              "    .colab-df-container {\n",
              "      display:flex;\n",
              "      gap: 12px;\n",
              "    }\n",
              "\n",
              "    .colab-df-convert {\n",
              "      background-color: #E8F0FE;\n",
              "      border: none;\n",
              "      border-radius: 50%;\n",
              "      cursor: pointer;\n",
              "      display: none;\n",
              "      fill: #1967D2;\n",
              "      height: 32px;\n",
              "      padding: 0 0 0 0;\n",
              "      width: 32px;\n",
              "    }\n",
              "\n",
              "    .colab-df-convert:hover {\n",
              "      background-color: #E2EBFA;\n",
              "      box-shadow: 0px 1px 2px rgba(60, 64, 67, 0.3), 0px 1px 3px 1px rgba(60, 64, 67, 0.15);\n",
              "      fill: #174EA6;\n",
              "    }\n",
              "\n",
              "    .colab-df-buttons div {\n",
              "      margin-bottom: 4px;\n",
              "    }\n",
              "\n",
              "    [theme=dark] .colab-df-convert {\n",
              "      background-color: #3B4455;\n",
              "      fill: #D2E3FC;\n",
              "    }\n",
              "\n",
              "    [theme=dark] .colab-df-convert:hover {\n",
              "      background-color: #434B5C;\n",
              "      box-shadow: 0px 1px 3px 1px rgba(0, 0, 0, 0.15);\n",
              "      filter: drop-shadow(0px 1px 2px rgba(0, 0, 0, 0.3));\n",
              "      fill: #FFFFFF;\n",
              "    }\n",
              "  </style>\n",
              "\n",
              "    <script>\n",
              "      const buttonEl =\n",
              "        document.querySelector('#df-e21029e9-77ed-4b57-8617-9e0572408f07 button.colab-df-convert');\n",
              "      buttonEl.style.display =\n",
              "        google.colab.kernel.accessAllowed ? 'block' : 'none';\n",
              "\n",
              "      async function convertToInteractive(key) {\n",
              "        const element = document.querySelector('#df-e21029e9-77ed-4b57-8617-9e0572408f07');\n",
              "        const dataTable =\n",
              "          await google.colab.kernel.invokeFunction('convertToInteractive',\n",
              "                                                    [key], {});\n",
              "        if (!dataTable) return;\n",
              "\n",
              "        const docLinkHtml = 'Like what you see? Visit the ' +\n",
              "          '<a target=\"_blank\" href=https://colab.research.google.com/notebooks/data_table.ipynb>data table notebook</a>'\n",
              "          + ' to learn more about interactive tables.';\n",
              "        element.innerHTML = '';\n",
              "        dataTable['output_type'] = 'display_data';\n",
              "        await google.colab.output.renderOutput(dataTable, element);\n",
              "        const docLink = document.createElement('div');\n",
              "        docLink.innerHTML = docLinkHtml;\n",
              "        element.appendChild(docLink);\n",
              "      }\n",
              "    </script>\n",
              "  </div>\n",
              "\n",
              "\n",
              "<div id=\"df-96e368eb-7216-4142-bb3e-0e38c9846935\">\n",
              "  <button class=\"colab-df-quickchart\" onclick=\"quickchart('df-96e368eb-7216-4142-bb3e-0e38c9846935')\"\n",
              "            title=\"Suggest charts\"\n",
              "            style=\"display:none;\">\n",
              "\n",
              "<svg xmlns=\"http://www.w3.org/2000/svg\" height=\"24px\"viewBox=\"0 0 24 24\"\n",
              "     width=\"24px\">\n",
              "    <g>\n",
              "        <path d=\"M19 3H5c-1.1 0-2 .9-2 2v14c0 1.1.9 2 2 2h14c1.1 0 2-.9 2-2V5c0-1.1-.9-2-2-2zM9 17H7v-7h2v7zm4 0h-2V7h2v10zm4 0h-2v-4h2v4z\"/>\n",
              "    </g>\n",
              "</svg>\n",
              "  </button>\n",
              "\n",
              "<style>\n",
              "  .colab-df-quickchart {\n",
              "      --bg-color: #E8F0FE;\n",
              "      --fill-color: #1967D2;\n",
              "      --hover-bg-color: #E2EBFA;\n",
              "      --hover-fill-color: #174EA6;\n",
              "      --disabled-fill-color: #AAA;\n",
              "      --disabled-bg-color: #DDD;\n",
              "  }\n",
              "\n",
              "  [theme=dark] .colab-df-quickchart {\n",
              "      --bg-color: #3B4455;\n",
              "      --fill-color: #D2E3FC;\n",
              "      --hover-bg-color: #434B5C;\n",
              "      --hover-fill-color: #FFFFFF;\n",
              "      --disabled-bg-color: #3B4455;\n",
              "      --disabled-fill-color: #666;\n",
              "  }\n",
              "\n",
              "  .colab-df-quickchart {\n",
              "    background-color: var(--bg-color);\n",
              "    border: none;\n",
              "    border-radius: 50%;\n",
              "    cursor: pointer;\n",
              "    display: none;\n",
              "    fill: var(--fill-color);\n",
              "    height: 32px;\n",
              "    padding: 0;\n",
              "    width: 32px;\n",
              "  }\n",
              "\n",
              "  .colab-df-quickchart:hover {\n",
              "    background-color: var(--hover-bg-color);\n",
              "    box-shadow: 0 1px 2px rgba(60, 64, 67, 0.3), 0 1px 3px 1px rgba(60, 64, 67, 0.15);\n",
              "    fill: var(--button-hover-fill-color);\n",
              "  }\n",
              "\n",
              "  .colab-df-quickchart-complete:disabled,\n",
              "  .colab-df-quickchart-complete:disabled:hover {\n",
              "    background-color: var(--disabled-bg-color);\n",
              "    fill: var(--disabled-fill-color);\n",
              "    box-shadow: none;\n",
              "  }\n",
              "\n",
              "  .colab-df-spinner {\n",
              "    border: 2px solid var(--fill-color);\n",
              "    border-color: transparent;\n",
              "    border-bottom-color: var(--fill-color);\n",
              "    animation:\n",
              "      spin 1s steps(1) infinite;\n",
              "  }\n",
              "\n",
              "  @keyframes spin {\n",
              "    0% {\n",
              "      border-color: transparent;\n",
              "      border-bottom-color: var(--fill-color);\n",
              "      border-left-color: var(--fill-color);\n",
              "    }\n",
              "    20% {\n",
              "      border-color: transparent;\n",
              "      border-left-color: var(--fill-color);\n",
              "      border-top-color: var(--fill-color);\n",
              "    }\n",
              "    30% {\n",
              "      border-color: transparent;\n",
              "      border-left-color: var(--fill-color);\n",
              "      border-top-color: var(--fill-color);\n",
              "      border-right-color: var(--fill-color);\n",
              "    }\n",
              "    40% {\n",
              "      border-color: transparent;\n",
              "      border-right-color: var(--fill-color);\n",
              "      border-top-color: var(--fill-color);\n",
              "    }\n",
              "    60% {\n",
              "      border-color: transparent;\n",
              "      border-right-color: var(--fill-color);\n",
              "    }\n",
              "    80% {\n",
              "      border-color: transparent;\n",
              "      border-right-color: var(--fill-color);\n",
              "      border-bottom-color: var(--fill-color);\n",
              "    }\n",
              "    90% {\n",
              "      border-color: transparent;\n",
              "      border-bottom-color: var(--fill-color);\n",
              "    }\n",
              "  }\n",
              "</style>\n",
              "\n",
              "  <script>\n",
              "    async function quickchart(key) {\n",
              "      const quickchartButtonEl =\n",
              "        document.querySelector('#' + key + ' button');\n",
              "      quickchartButtonEl.disabled = true;  // To prevent multiple clicks.\n",
              "      quickchartButtonEl.classList.add('colab-df-spinner');\n",
              "      try {\n",
              "        const charts = await google.colab.kernel.invokeFunction(\n",
              "            'suggestCharts', [key], {});\n",
              "      } catch (error) {\n",
              "        console.error('Error during call to suggestCharts:', error);\n",
              "      }\n",
              "      quickchartButtonEl.classList.remove('colab-df-spinner');\n",
              "      quickchartButtonEl.classList.add('colab-df-quickchart-complete');\n",
              "    }\n",
              "    (() => {\n",
              "      let quickchartButtonEl =\n",
              "        document.querySelector('#df-96e368eb-7216-4142-bb3e-0e38c9846935 button');\n",
              "      quickchartButtonEl.style.display =\n",
              "        google.colab.kernel.accessAllowed ? 'block' : 'none';\n",
              "    })();\n",
              "  </script>\n",
              "</div>\n",
              "    </div>\n",
              "  </div>\n"
            ],
            "text/plain": [
              "   id   age    bp     sg   al   su     rbc        pc         pcc          ba  \\\n",
              "0   0  48.0  80.0  1.020  1.0  0.0     NaN    normal  notpresent  notpresent   \n",
              "1   1   7.0  50.0  1.020  4.0  0.0     NaN    normal  notpresent  notpresent   \n",
              "2   2  62.0  80.0  1.010  2.0  3.0  normal    normal  notpresent  notpresent   \n",
              "3   3  48.0  70.0  1.005  4.0  0.0  normal  abnormal     present  notpresent   \n",
              "4   4  51.0  80.0  1.010  2.0  0.0  normal    normal  notpresent  notpresent   \n",
              "\n",
              "   ...  pcv    wc   rc  htn   dm  cad appet   pe  ane classification  \n",
              "0  ...   44  7800  5.2  yes  yes   no  good   no   no            ckd  \n",
              "1  ...   38  6000  NaN   no   no   no  good   no   no            ckd  \n",
              "2  ...   31  7500  NaN   no  yes   no  poor   no  yes            ckd  \n",
              "3  ...   32  6700  3.9  yes   no   no  poor  yes  yes            ckd  \n",
              "4  ...   35  7300  4.6   no   no   no  good   no   no            ckd  \n",
              "\n",
              "[5 rows x 26 columns]"
            ]
          },
          "execution_count": 12,
          "metadata": {},
          "output_type": "execute_result"
        }
      ],
      "source": [
        "import pandas as pd\n",
        "\n",
        "df = pd.read_csv('kidney_disease.csv')\n",
        "df.head(5)"
      ]
    },
    {
      "cell_type": "code",
      "execution_count": null,
      "metadata": {
        "colab": {
          "base_uri": "https://localhost:8080/"
        },
        "id": "SnGqWwIRwg58",
        "outputId": "c4a4d188-3d86-42ba-9f5c-a09e7f882cb8"
      },
      "outputs": [
        {
          "name": "stdout",
          "output_type": "stream",
          "text": [
            "Banyaknya data :  400\n",
            "Banyaknya kolom :  26\n"
          ]
        }
      ],
      "source": [
        "# Rincian dataset (banyak data dan kolom)\n",
        "\n",
        "print(\"Banyaknya data : \", df.shape[0])\n",
        "print(\"Banyaknya kolom : \", df.shape[1])"
      ]
    },
    {
      "cell_type": "markdown",
      "metadata": {
        "id": "Z3www8KJw2lQ"
      },
      "source": [
        "### Cleaning Data\n",
        "\n",
        "Pembersihan data, atau data cleaning, adalah proses identifikasi, koreksi, atau penghapusan kesalahan dan ketidaksesuaian dalam dataset. Tujuan dari cleaning data adalah untuk memastikan bahwa data yang digunakan dalam analisis atau pemodelan adalah akurat, konsisten, dan siap digunakan."
      ]
    },
    {
      "cell_type": "markdown",
      "metadata": {
        "id": "StUicVLeya8W"
      },
      "source": [
        "#### Menghapus karakter khusus dan mengubah kesalahan konversi tipe data"
      ]
    },
    {
      "cell_type": "markdown",
      "metadata": {
        "id": "2B051_2A1GF9"
      },
      "source": [
        "Menghapus karakter tambahan(['\\t']) dan spasi yang terdapat pada isi data tiap fitur\n"
      ]
    },
    {
      "cell_type": "code",
      "execution_count": null,
      "metadata": {
        "colab": {
          "base_uri": "https://localhost:8080/"
        },
        "id": "jbQfd-T010ZH",
        "outputId": "5788e135-c3c5-477b-dafd-bd11db4ad082"
      },
      "outputs": [
        {
          "name": "stdout",
          "output_type": "stream",
          "text": [
            "['44' '38' '31' '32' '35' '39' '36' '33' '29' '28' nan '16' '24' '37' '30'\n",
            " '34' '40' '45' '27' '48' '?' '52' '14' '22' '18' '42' '17' '46' '23' '19'\n",
            " '25' '41' '26' '15' '21' '43' '20' '47' '9' '49' '50' '53' '51' '54']\n",
            "['7800' '6000' '7500' '6700' '7300' nan '6900' '9600' '12100' '4500'\n",
            " '12200' '11000' '3800' '11400' '5300' '9200' '6200' '8300' '8400' '10300'\n",
            " '9800' '9100' '7900' '6400' '8600' '18900' '21600' '4300' '8500' '11300'\n",
            " '7200' '7700' '14600' '6300' '7100' '11800' '9400' '5500' '5800' '13200'\n",
            " '12500' '5600' '7000' '11900' '10400' '10700' '12700' '6800' '6500'\n",
            " '13600' '10200' '9000' '14900' '8200' '15200' '5000' '16300' '12400'\n",
            " '10500' '4200' '4700' '10900' '8100' '9500' '2200' '12800' '11200'\n",
            " '19100' '?' '12300' '16700' '2600' '26400' '8800' '7400' '4900' '8000'\n",
            " '12000' '15700' '4100' '5700' '11500' '5400' '10800' '9900' '5200' '5900'\n",
            " '9300' '9700' '5100' '6600']\n",
            "[5.2 nan 3.9 4.6 4.4 5.  4.  3.7 3.8 3.4 2.6 2.8 4.3 3.2 3.6 4.1 4.9 2.5\n",
            " 4.2 4.5 3.1 4.7 3.5 6.  2.1 5.6 2.3 2.9 2.7 8.  3.3 3.  2.4 4.8 5.4 6.1\n",
            " 6.2 6.3 5.1 5.8 5.5 5.3 6.4 5.7 5.9 6.5]\n",
            "['yes' 'no' nan]\n",
            "['no' 'yes' nan]\n",
            "['ckd' 'notckd']\n"
          ]
        }
      ],
      "source": [
        "import pandas as pd\n",
        "\n",
        "# Gantilah dengan path yang sesuai ke file CSV penyakit ginjal kronis\n",
        "\n",
        "# Loop melalui kolom-kolom yang perlu dihandle\n",
        "columns_to_handle = ['pcv', 'wc', 'rc', 'dm', 'cad', 'classification']\n",
        "\n",
        "for column in columns_to_handle:\n",
        "    # Mengganti '\\t' dan spasi ekstra dengan string kosong\n",
        "    df[column] = df[column].replace(r'\\t', '', regex=True).str.strip()\n",
        "\n",
        "# Menangani karakter khusus pada kolom 'classification' (menghapus spasi ekstra)\n",
        "df['classification'] = df['classification'].str.strip()\n",
        "\n",
        "# Menangani karakter khusus pada kolom 'classification' (menghapus 'ckd\\t')\n",
        "df['classification'] = df['classification'].replace('ckd\\t', 'ckd', regex=True)\n",
        "\n",
        "# Konversi tipe df kolom 'rc' ke numerik, menggantikan nilai yang tidak dapat diubah\n",
        "df['rc'] = pd.to_numeric(df['rc'], errors='coerce')\n",
        "\n",
        "for column in columns_to_handle:\n",
        "    print(df[column].unique())\n",
        "\n"
      ]
    },
    {
      "cell_type": "markdown",
      "metadata": {
        "id": "X-PsZiubRz4A"
      },
      "source": [
        "Mengubah kesalahan konversi tipe data"
      ]
    },
    {
      "cell_type": "code",
      "execution_count": null,
      "metadata": {
        "colab": {
          "base_uri": "https://localhost:8080/"
        },
        "id": "e0XRXnj2SChw",
        "outputId": "927a8703-3c82-46dc-f09f-e3bd329d2de6"
      },
      "outputs": [
        {
          "name": "stdout",
          "output_type": "stream",
          "text": [
            "[44. 38. 31. 32. 35. 39. 36. 33. 29. 28. nan 16. 24. 37. 30. 34. 40. 45.\n",
            " 27. 48. 52. 14. 22. 18. 42. 17. 46. 23. 19. 25. 41. 26. 15. 21. 43. 20.\n",
            " 47.  9. 49. 50. 53. 51. 54.]\n",
            "[ 7800.  6000.  7500.  6700.  7300.    nan  6900.  9600. 12100.  4500.\n",
            " 12200. 11000.  3800. 11400.  5300.  9200.  6200.  8300.  8400. 10300.\n",
            "  9800.  9100.  7900.  6400.  8600. 18900. 21600.  4300.  8500. 11300.\n",
            "  7200.  7700. 14600.  6300.  7100. 11800.  9400.  5500.  5800. 13200.\n",
            " 12500.  5600.  7000. 11900. 10400. 10700. 12700.  6800.  6500. 13600.\n",
            " 10200.  9000. 14900.  8200. 15200.  5000. 16300. 12400. 10500.  4200.\n",
            "  4700. 10900.  8100.  9500.  2200. 12800. 11200. 19100. 12300. 16700.\n",
            "  2600. 26400.  8800.  7400.  4900.  8000. 12000. 15700.  4100.  5700.\n",
            " 11500.  5400. 10800.  9900.  5200.  5900.  9300.  9700.  5100.  6600.]\n",
            "[5.2 nan 3.9 4.6 4.4 5.  4.  3.7 3.8 3.4 2.6 2.8 4.3 3.2 3.6 4.1 4.9 2.5\n",
            " 4.2 4.5 3.1 4.7 3.5 6.  2.1 5.6 2.3 2.9 2.7 8.  3.3 3.  2.4 4.8 5.4 6.1\n",
            " 6.2 6.3 5.1 5.8 5.5 5.3 6.4 5.7 5.9 6.5]\n"
          ]
        }
      ],
      "source": [
        "columns_to_convert = ['pcv', 'wc', 'rc']\n",
        "for col in columns_to_convert:\n",
        "    df[col] = pd.to_numeric(df[col], errors='coerce')\n",
        "    print(df[col].unique())\n",
        "\n",
        "\n"
      ]
    },
    {
      "cell_type": "markdown",
      "metadata": {
        "id": "yJo_HeeE20t8"
      },
      "source": [
        "### Mengisi data missing value"
      ]
    },
    {
      "cell_type": "markdown",
      "metadata": {
        "id": "zupzpWvx2_MI"
      },
      "source": [
        "#### Melakukan transformasi data guna mempermudah untuk pengisian missing value.\n",
        "\n",
        "Adapun ketentuannya sebagai berikut:\n",
        "\n",
        "```\n",
        "- rbc\n",
        "  - normal = 1\n",
        "  - abnormal = 0\n",
        "- pc\n",
        "  - normal = 1\n",
        "  - abnormal = 0\n",
        "- pcc\n",
        "  - present = 1\n",
        "  - notpresent = 0\n",
        "- ba\n",
        "  - present = 1\n",
        "  - notpresent = 0\n",
        "- htn\n",
        "  - yes = 1\n",
        "  - no = 0\n",
        "- dm\n",
        "  - yes = 1\n",
        "  - no = 0\n",
        "- cad\n",
        "  - yes = 1\n",
        "  - no = 0\n",
        "- appet\n",
        "  - good = 1\n",
        "  - poor = 0\n",
        "- pe\n",
        "  - yes = 1\n",
        "  - no = 0\n",
        "- ane\n",
        "  - yes = 1\n",
        "  - no = 0\n",
        "- classification\n",
        "  - ckd = 1\n",
        "  - notckd = 0\n",
        "```"
      ]
    },
    {
      "cell_type": "code",
      "execution_count": null,
      "metadata": {
        "colab": {
          "base_uri": "https://localhost:8080/"
        },
        "id": "FcwmGBvRyZPj",
        "outputId": "ace3a973-f254-4b21-ead7-1fa5f55cd7cd"
      },
      "outputs": [
        {
          "name": "stdout",
          "output_type": "stream",
          "text": [
            "     rbc   pc  pcc   ba  htn   dm  cad  appet   pe  ane  classification\n",
            "0    NaN  1.0  0.0  0.0  1.0  1.0  0.0    1.0  0.0  0.0               1\n",
            "1    NaN  1.0  0.0  0.0  0.0  0.0  0.0    1.0  0.0  0.0               1\n",
            "2    1.0  1.0  0.0  0.0  0.0  1.0  0.0    0.0  0.0  1.0               1\n",
            "3    1.0  0.0  1.0  0.0  1.0  0.0  0.0    0.0  1.0  1.0               1\n",
            "4    1.0  1.0  0.0  0.0  0.0  0.0  0.0    1.0  0.0  0.0               1\n",
            "..   ...  ...  ...  ...  ...  ...  ...    ...  ...  ...             ...\n",
            "395  1.0  1.0  0.0  0.0  0.0  0.0  0.0    1.0  0.0  0.0               0\n",
            "396  1.0  1.0  0.0  0.0  0.0  0.0  0.0    1.0  0.0  0.0               0\n",
            "397  1.0  1.0  0.0  0.0  0.0  0.0  0.0    1.0  0.0  0.0               0\n",
            "398  1.0  1.0  0.0  0.0  0.0  0.0  0.0    1.0  0.0  0.0               0\n",
            "399  1.0  1.0  0.0  0.0  0.0  0.0  0.0    1.0  0.0  0.0               0\n",
            "\n",
            "[400 rows x 11 columns]\n"
          ]
        }
      ],
      "source": [
        "# Daftar kolom yang perlu diubah sesuai dengan aturan Anda\n",
        "columns_to_convert = ['rbc', 'pc', 'pcc', 'ba', 'htn', 'dm', 'cad', 'appet', 'pe', 'ane', 'classification']\n",
        "\n",
        "# Aturan konversi sesuai dengan yang Anda sebutkan\n",
        "conversion_rules = {\n",
        "    'rbc': {'normal': 1, 'abnormal': 0},\n",
        "    'pc': {'normal': 1, 'abnormal': 0},\n",
        "    'pcc': {'present': 1, 'notpresent': 0},\n",
        "    'ba': {'present': 1, 'notpresent': 0},\n",
        "    'htn': {'yes': 1, 'no': 0},\n",
        "    'dm': {'yes': 1, 'no': 0},\n",
        "    'cad': {'yes': 1, 'no': 0},\n",
        "    'appet': {'good': 1, 'poor': 0},\n",
        "    'pe': {'yes': 1, 'no': 0},\n",
        "    'ane': {'yes': 1, 'no': 0},\n",
        "    'classification': {'ckd': 1, 'notckd': 0}\n",
        "}\n",
        "\n",
        "# Mengubah data berdasarkan aturan yang telah ditentukan\n",
        "df[columns_to_convert] = df[columns_to_convert].replace(conversion_rules)\n",
        "\n",
        "# Menampilkan data setelah konversi\n",
        "print(df[columns_to_convert])\n"
      ]
    },
    {
      "cell_type": "markdown",
      "metadata": {
        "id": "yFeWJLXO3573"
      },
      "source": [
        "#### Mengisi missing value dengan rata-rata\n",
        "\n",
        "\n",
        "\n"
      ]
    },
    {
      "cell_type": "markdown",
      "metadata": {
        "id": "sqC66IdXcK7B"
      },
      "source": [
        "**Berikut merupakan cara mengisi missing value secara manual**\n",
        "\n",
        "**Rumus**\n",
        "\n",
        "$$\\text{Nilai yang akan diisi} = \\frac{\\text{Jumlah nilai pada kelas tertentu}}{\\text{Total nilai pada kelas tertentu}} \\times \\text{Total nilai yang ada pada kolom} $$\n",
        "\n",
        "**Data Awal**\n",
        "\n",
        "| Atribut  | Kelas |\n",
        "|----------|-------|\n",
        "| 20       | Yes   |\n",
        "| 25       | No    |\n",
        "| NaN      | Yes   |\n",
        "| 30       | Yes   |\n",
        "| NaN      | No    |\n",
        "| NaN      | No    |\n",
        "\n",
        "\n",
        "**Perhitungan**\n",
        "\n",
        "1. **Jumlah 'Yes' pada Atribut:**\n",
        "   $$ 20 + \\text{NaN} + 30 = 50 $$\n",
        "\n",
        "2. **Jumlah 'No' pada Atribut:**\n",
        "   $$ 25 + \\text{NaN} + \\text{NaN} = 25 $$\n",
        "\n",
        "3. **Total Atribut sebelum diisi:**\n",
        "   $$ 20 + 25 + \\text{NaN} + 30 + \\text{NaN} + \\text{NaN} = \\text{Total Atribut Sebelum} = 75 $$\n",
        "\n",
        "4. **Rumus untuk mengisi missing value di Atribut:**\n",
        "    - **Untuk kelas yes**\n",
        "   $$\\text{Nilai yang akan diisi} = \\frac{50}{50} \\times 75$$\n",
        "    - **Untuk kelas no**\n",
        "   $$\\text{Nilai yang akan diisi} = \\frac{50}{25} \\times 75$$\n",
        "\n",
        "5. **Perhitungan:**\n",
        "    - **Untuk kelas yes**\n",
        "   $$\\text{Nilai yang akan diisi} = \\frac{50}{50} \\times 75 = 75$$\n",
        "    - **Untuk kelas no**\n",
        "   $$\\text{Nilai yang akan diisi} = \\frac{50}{25} \\times 75 = 150$$\n",
        "\n",
        "Diperoleh untuk baris yang memiliki kelas yes akan diisi dengan nilai 75 dan baris yang memliki kelas no akan diisi dengan 150:\n",
        "\n",
        "**Data Setelah Diisi**\n",
        "\n",
        "| Atribut  | Kelas |\n",
        "|----------|-------|\n",
        "| 20       | Yes   |\n",
        "| 25       | No    |\n",
        "| 75       | Yes   |\n",
        "| 30       | Yes   |\n",
        "| 150       | No    |\n",
        "| 150       | No    |\n",
        "\n"
      ]
    },
    {
      "cell_type": "markdown",
      "metadata": {
        "id": "M-oLKYFpgHCa"
      },
      "source": [
        "Untuk implementasinya disini akan menggunakan SimpleImputer dalam mengisi missing value pada data ini. SimpleImputer adalah sebuah kelas dalam pustaka scikit-learn yang menyediakan fungsionalitas untuk mengisi nilai yang hilang dalam dataset. Pada library ini terdapat 4 strategi yang dapat digunakan dalam pengisian missing value nantinya, yaitu sebagai berikut:\n",
        "\n",
        "- mean: Mengisi nilai yang hilang dengan rata-rata dari nilai yang ada pada kolom.\n",
        "- median: Mengisi nilai yang hilang dengan nilai tengah dari nilai yang ada pada kolom.\n",
        "- most_frequent: Mengisi nilai yang hilang dengan nilai yang paling sering muncul pada kolom.\n",
        "- constant: Mengisi nilai yang hilang dengan nilai konstan yang ditentukan sebelumnya.\n",
        "\n",
        "**Noted :** Strategi yang akan digunakan pada tahap ini yaitu mean."
      ]
    },
    {
      "cell_type": "code",
      "execution_count": null,
      "metadata": {
        "colab": {
          "base_uri": "https://localhost:8080/"
        },
        "id": "LVA8kk9mfYBq",
        "outputId": "b64d511e-08ec-406b-b0bb-dba05622a2b6"
      },
      "outputs": [
        {
          "name": "stdout",
          "output_type": "stream",
          "text": [
            "<class 'pandas.core.frame.DataFrame'>\n",
            "RangeIndex: 400 entries, 0 to 399\n",
            "Data columns (total 26 columns):\n",
            " #   Column          Non-Null Count  Dtype  \n",
            "---  ------          --------------  -----  \n",
            " 0   id              400 non-null    int64  \n",
            " 1   age             400 non-null    float64\n",
            " 2   bp              400 non-null    float64\n",
            " 3   sg              400 non-null    float64\n",
            " 4   al              400 non-null    float64\n",
            " 5   su              400 non-null    float64\n",
            " 6   rbc             400 non-null    float64\n",
            " 7   pc              400 non-null    float64\n",
            " 8   pcc             400 non-null    float64\n",
            " 9   ba              400 non-null    float64\n",
            " 10  bgr             400 non-null    float64\n",
            " 11  bu              400 non-null    float64\n",
            " 12  sc              400 non-null    float64\n",
            " 13  sod             400 non-null    float64\n",
            " 14  pot             400 non-null    float64\n",
            " 15  hemo            400 non-null    float64\n",
            " 16  pcv             400 non-null    float64\n",
            " 17  wc              400 non-null    float64\n",
            " 18  rc              400 non-null    float64\n",
            " 19  htn             400 non-null    float64\n",
            " 20  dm              400 non-null    float64\n",
            " 21  cad             400 non-null    float64\n",
            " 22  appet           400 non-null    float64\n",
            " 23  pe              400 non-null    float64\n",
            " 24  ane             400 non-null    float64\n",
            " 25  classification  400 non-null    int64  \n",
            "dtypes: float64(24), int64(2)\n",
            "memory usage: 81.4 KB\n",
            "None\n"
          ]
        }
      ],
      "source": [
        "from sklearn.impute import SimpleImputer\n",
        "\n",
        "# Daftar kolom dengan missing values\n",
        "columns_with_missing = df.columns[df.isnull().any()]\n",
        "\n",
        "# Membuat objek SimpleImputer dengan strategi 'mean'\n",
        "imputer = SimpleImputer(strategy='mean')\n",
        "\n",
        "# Mengisi missing values dengan mean berdasarkan kelasnya\n",
        "for col in columns_with_missing:\n",
        "    # Pisahkan data berdasarkan kelas target\n",
        "    for classification_value in df['classification'].unique():\n",
        "        # Ambil subset data untuk kelas tertentu\n",
        "        subset_data = df[df['classification'] == classification_value]\n",
        "\n",
        "        # Pilih kolom yang sesuai\n",
        "        subset_data_col = subset_data[[col]]\n",
        "\n",
        "        # Menggunakan SimpleImputer untuk mengisi missing value dengan mean\n",
        "        imputed_values = imputer.fit_transform(subset_data_col)\n",
        "\n",
        "        # Gabungkan kembali hasil imputasi ke DataFrame utama\n",
        "        df.loc[df['classification'] == classification_value, col] = imputed_values\n",
        "\n",
        "# Cetak informasi dataset setelah mengisi missing value dengan mean berdasarkan kelasnya\n",
        "print(df.info())\n"
      ]
    },
    {
      "cell_type": "markdown",
      "metadata": {
        "id": "OfDbfLCaz8Ox"
      },
      "source": [
        "### Menghapus Data Outlier"
      ]
    },
    {
      "cell_type": "code",
      "execution_count": null,
      "metadata": {
        "colab": {
          "base_uri": "https://localhost:8080/"
        },
        "id": "1K3u2EDw4mdp",
        "outputId": "07454636-d654-43b8-d980-e92afa923d5e"
      },
      "outputs": [
        {
          "name": "stdout",
          "output_type": "stream",
          "text": [
            "Jumlah baris sebelum menghilangkan outlier: 400\n",
            "Jumlah baris setelah menghilangkan outlier: 381\n",
            "Informasi DataFrame setelah menghapus outlier:\n",
            "<class 'pandas.core.frame.DataFrame'>\n",
            "Int64Index: 381 entries, 0 to 399\n",
            "Data columns (total 26 columns):\n",
            " #   Column          Non-Null Count  Dtype  \n",
            "---  ------          --------------  -----  \n",
            " 0   id              381 non-null    int64  \n",
            " 1   age             381 non-null    float64\n",
            " 2   bp              381 non-null    float64\n",
            " 3   sg              381 non-null    float64\n",
            " 4   al              381 non-null    float64\n",
            " 5   su              381 non-null    float64\n",
            " 6   rbc             381 non-null    float64\n",
            " 7   pc              381 non-null    float64\n",
            " 8   pcc             381 non-null    float64\n",
            " 9   ba              381 non-null    float64\n",
            " 10  bgr             381 non-null    float64\n",
            " 11  bu              381 non-null    float64\n",
            " 12  sc              381 non-null    float64\n",
            " 13  sod             381 non-null    float64\n",
            " 14  pot             381 non-null    float64\n",
            " 15  hemo            381 non-null    float64\n",
            " 16  pcv             381 non-null    float64\n",
            " 17  wc              381 non-null    float64\n",
            " 18  rc              381 non-null    float64\n",
            " 19  htn             381 non-null    float64\n",
            " 20  dm              381 non-null    float64\n",
            " 21  cad             381 non-null    float64\n",
            " 22  appet           381 non-null    float64\n",
            " 23  pe              381 non-null    float64\n",
            " 24  ane             381 non-null    float64\n",
            " 25  classification  381 non-null    int64  \n",
            "dtypes: float64(24), int64(2)\n",
            "memory usage: 80.4 KB\n",
            "None\n"
          ]
        }
      ],
      "source": [
        "# Menghilangkan baris data yang mengandung outlier\n",
        "df_cleaned = df.drop(outlier_indices)\n",
        "\n",
        "# Menampilkan informasi setelah menghilangkan outlier\n",
        "print(\"Jumlah baris sebelum menghilangkan outlier:\", len(df))\n",
        "print(\"Jumlah baris setelah menghilangkan outlier:\", len(df_cleaned))\n",
        "print(\"Informasi DataFrame setelah menghapus outlier:\")\n",
        "print(df_cleaned.info())\n"
      ]
    },
    {
      "cell_type": "markdown",
      "metadata": {
        "id": "DClj0tE56Zh5"
      },
      "source": [
        "Simpan data yang sudah di transformasi dan sudah tidak ada missing value"
      ]
    },
    {
      "cell_type": "code",
      "execution_count": null,
      "metadata": {
        "id": "dphgu-qun37u"
      },
      "outputs": [],
      "source": [
        "# Menyimpan DataFrame ke dalam file CSV\n",
        "df_cleaned.to_csv('data_baru_bangetz.csv', index=False)"
      ]
    },
    {
      "cell_type": "code",
      "execution_count": null,
      "metadata": {
        "id": "MeVxAVCU69gA"
      },
      "outputs": [],
      "source": [
        "data =  pd.read_csv('data_baru_bangetz.csv')\n",
        "fitur = data.drop(columns=['id','classification'])\n",
        "target = data['classification']"
      ]
    },
    {
      "cell_type": "code",
      "execution_count": null,
      "metadata": {
        "colab": {
          "base_uri": "https://localhost:8080/"
        },
        "id": "jJCNVXss44vo",
        "outputId": "86605c4e-cad9-4e94-9ad6-65073ac62b09"
      },
      "outputs": [
        {
          "data": {
            "text/plain": [
              "1    235\n",
              "0    146\n",
              "Name: classification, dtype: int64"
            ]
          },
          "execution_count": 21,
          "metadata": {},
          "output_type": "execute_result"
        }
      ],
      "source": [
        "target.value_counts()"
      ]
    },
    {
      "cell_type": "markdown",
      "metadata": {
        "id": "jsc8mSzTuC8_"
      },
      "source": [
        "### RANKING SETIAP FITUR DALAM DATA\n",
        "\n",
        "Untuk memilih fitur terbaik dapat dengan me-renking fitur-fitur didalm dataset dengan mencari nilai mutual information setiap fitur agar dapat dibandingkan diurutkan dengan fitur lainnya. Padaproyek ini digunakan metode SelectKBest dengan mencari nilai mutual information dari setiap fitur.\n",
        "\n",
        "#### MUTUAL INFORMATION\n",
        "\n",
        "Mutual information (MI) adalah metrik yang berguna dalam pemilihan fitur karena mengukur seberapa banyak informasi yang saling terkait antara fitur (variabel independen) dengan variabel target (variabel dependen). Dalam konteks pemilihan fitur, kita ingin mempertahankan fitur-fitur yang memiliki hubungan yang kuat atau tinggi dalam menjelaskan variabel target.\n",
        "\n",
        "Rumus Mutual Information (MI) between X and Y:\n",
        "\n",
        "$$\n",
        "\\text{MI}(X;Y) = \\sum_{x \\in X} \\sum_{y \\in Y} p(x, y) \\log \\left(\\frac{p(x, y)}{p(x) \\cdot p(y)}\\right)\n",
        "$$\n",
        "\n",
        "\n",
        "Dimana:\n",
        "- MI(X;Y) adalah mutual information antara variabel X dan Y.\n",
        "- p(x,y) adalah probabilitas bersama dari X=x dan Y=y.\n",
        "- p(x) adalah probabilitas margina X=x.\n",
        "- p(y) adalah probabilitas margina Y=y.\n",
        "\n",
        "Dari tahap ini dihasilkan rangking dari setiap kolom atau fitur sehingga dapat mengetahui fitur-fitur yang memiliki ciri khas penting untuk data red wine itu sendiri. Pada tahap skenario percobaan nantinya akan dipilih fitur-fitur yang memiliki nilai mutual information tertinggi. Untuk memilih fitur-fitur yang terbaik dapat dimulai dengan menghapus fitur yang memiliki nilai mutual information paling rendah lalu skenario bergeser ke kiri dimana fitur yang dihapus yaitu fitur dengan mutual information terendah nomer 2 dan paling rendah. pemilihan fitur terus dilakukan pada skenario percobaan hingga mencapai akurasi tertinggi.\n",
        "\n",
        "Contoh Kasus untuk mengurutkan kolom dengan mutual information paling tinggi hingga terendah, di berikan tabel berikut :\n",
        "\n",
        "| ID | Variabel_1 | Variabel_2 | Variabel_Target |\n",
        "|----|------------|------------|----------------|\n",
        "| 1  | 2          | 3          | b              |\n",
        "| 2  | 1          | 2          | a              |\n",
        "| 3  | 3          | 1          | a              |\n",
        "| 4  | 2          | 2          | b              |\n",
        "| 5  | 1          | 3          | a              |\n",
        "\n",
        "- Langkah 1 : Hitung distribusi probabilitas\n",
        "\n",
        "Untuk Variabel_Target:\n",
        "> - P(Target=a) = 3/5\n",
        "> - P(Target=b) = 2/5\n",
        "\n",
        "Untuk Variabel_1:\n",
        "> - P(Variabel_1=1) = 2/5\n",
        "> - P(Variabel_1=2) = 2/5\n",
        "> - P(Variabel_1=3) = 1/5\n",
        "\n",
        "Untuk Variabel_2:\n",
        "\n",
        "> - P(Variabel_2=1) = 1/5\n",
        "> - P(Variabel_2=2) = 2/5\n",
        "> - P(Variabel_2=3) = 2/5\n",
        "\n",
        "- Langkah 2 :  Hitung Entropi\n",
        "Entropi(variabel_Target) = - (3/5) * log2(3/5) - (2/5) * log2(2/5) ≈ 0.971\n",
        "\n",
        "Entropi(Variabel_1) = - (2/5) * log2(2/5) - (2/5) * log2(2/5) - (1/5) * log2(1/5) ≈ 1.571\n",
        "\n",
        "Entropi(Variabel_2) = - (1/5) * log2(1/5) - (2/5) * log2(2/5) - (2/5) * log2(2/5) ≈ 1.571\n",
        "\n",
        "- Langkah 3 : Hitung Conditional Entropi\n",
        "\n",
        "Untuk setiap nilai Variabel_1, hitung Entropi(Target|Variabel_1).\n",
        "\n",
        "Variabel_1\n",
        "\n",
        "Conditional_Entropy(Target | Variabel_1) = P(Variabel_1=1) * Entropi(Target|Variabel_1=1) + P(Variabel_1=2) * Entropi(Target|Variabel_1=2) + P(Variabel_1=3) * Entropi(Target|Variabel_1=3)\n",
        "\n",
        "Entropi(Target|Variabel_1=1) = - (1/2) * log2(1/2) - (1/2) * log2(1/2) = 1.0\n",
        "\n",
        "Entropi(Target|Variabel_1=2) = - (1/1) * log2(1/1) - (1/1) * log2(1/1) = 0.0\n",
        "\n",
        "Entropi(Target|Variabel_1=3) = - (1/1) * log2(1/1) = 0.0\n",
        "\n",
        "Conditional_Entropy(Target | Variabel_1) = (2/5)×1.0+(2/5)×0.0+(1/5)×0.0\n",
        "\n",
        "Conditional_Entropy(Target | Variabel_1) = 0.4\n",
        "\n",
        "Variabel_2\n",
        "\n",
        "Conditional_Entropy(Target | Variabel_2) = P(Variabel_2=1) * Entropi(Target|Variabel_2=1) + P(Variabel_2=2) * Entropi(Target|Variabel_2=2) + P(Variabel_2=3) * Entropi(Target|Variabel_2=3)\n",
        "\n",
        "Entropi(Target | Variabel_2=1) = - (1) * log2(1) = 0\n",
        "\n",
        "Entropi(Target | Variabel_2=2) = - (0.5) * log2(0.5) - (0.5) * log2(0.5) = 1.0\n",
        "\n",
        "Entropi(Target | Variabel_2=3) = - (0.5) * log2(0.5) - (0.5) * log2(0.5) = 1.0\n",
        "\n",
        "Conditional_Entropy(Target | Variabel_2) = (1/5) * 0 + (2/5) * 1.0 + (2/5) * 1.0 = 0.8\n",
        "\n",
        "- Langkah 4 : Hitung Mutual Information\n",
        "\n",
        "Mutual_Information(Variabel_1;Target) = 0.971 - 0.4 = 0.571\n",
        "\n",
        "Mutual_Information(Variabel_2;Target) = 0.971 - 0.8 = 0.171\n",
        "\n",
        "Dengan begitu variabel yang lebih berpengaruh adalah Variabel_1 dari Variabel_2"
      ]
    },
    {
      "cell_type": "code",
      "execution_count": null,
      "metadata": {
        "colab": {
          "base_uri": "https://localhost:8080/",
          "height": 590
        },
        "id": "lHa7kqD_usgQ",
        "outputId": "356107c0-64a2-41af-9d38-da4abc8f5ca8"
      },
      "outputs": [
        {
          "data": {
            "image/png": "[encoded data removed]",
            "text/plain": [
              "<Figure size 1200x600 with 1 Axes>"
            ]
          },
          "metadata": {},
          "output_type": "display_data"
        }
      ],
      "source": [
        "import matplotlib.pyplot as plt\n",
        "from sklearn.feature_selection import SelectKBest\n",
        "from sklearn.feature_selection import mutual_info_classif\n",
        "import numpy as np\n",
        "\n",
        "selector = SelectKBest(score_func=mutual_info_classif, k='all')\n",
        "X_new = selector.fit_transform(fitur,target)\n",
        "scores = selector.scores_\n",
        "\n",
        "feature_scores = selector.scores_\n",
        "feature_names = ['age', 'bp', 'sg', 'al', 'su', 'rbc', 'pc', 'pcc', 'ba', 'bgr',\n",
        "       'bu', 'sc', 'sod', 'pot', 'hemo', 'pcv', 'wc', 'rc', 'htn', 'dm', 'cad',\n",
        "       'appet', 'pe', 'ane']\n",
        "\n",
        "# Sort the feature scores in descending order\n",
        "sorted_indices = feature_scores.argsort()[::-1]\n",
        "\n",
        "# Get the sorted feature scores and names\n",
        "sorted_scores = feature_scores[sorted_indices]\n",
        "sorted_feature_names = [feature_names[i] for i in sorted_indices]\n",
        "\n",
        "# Plot the feature importances\n",
        "plt.figure(figsize=(12, 6))\n",
        "plt.bar(range(len(sorted_feature_names)), sorted_scores)\n",
        "plt.xticks(range(len(sorted_feature_names)), sorted_feature_names, rotation=90)\n",
        "plt.xlabel('Features')\n",
        "plt.ylabel('Information Gain')\n",
        "plt.title('Feature Importance (Information Gain)')\n",
        "plt.show()"
      ]
    },
    {
      "cell_type": "markdown",
      "metadata": {
        "id": "T37ppcrVwE2O"
      },
      "source": [
        "Berdasarkan skenario percobaan diperoleh fitur terbaik yang akan digunakan dalam klasifikasi ini adalah sebagai berikut:\n",
        "\n",
        "\n",
        "> - hemo\n",
        "> - pcv\n",
        "> - rc\n",
        "> - sc\n",
        "> - sg\n",
        "> - rbc\n",
        "> - al\n",
        "> - sod\n",
        "> - htn\n",
        "> - pot\n",
        "> - bu\n",
        "> - wc\n",
        "> - bgr\n",
        "> - pc\n",
        "> - bp\n",
        "> - dm\n",
        "> - su\n",
        "> - appet\n",
        "> - pe\n",
        "\n",
        "\n",
        "\n"
      ]
    },
    {
      "cell_type": "markdown",
      "metadata": {
        "id": "3RsfivbwzkbN"
      },
      "source": [
        "### Split Data"
      ]
    },
    {
      "cell_type": "markdown",
      "metadata": {
        "id": "-dm_xLJoz10g"
      },
      "source": [
        "Split Data dilakukan dengan menggunakan fitur terbaik yang sudah dipilih sebelumnya."
      ]
    },
    {
      "cell_type": "code",
      "execution_count": null,
      "metadata": {
        "id": "Orm0sTywzt0p"
      },
      "outputs": [],
      "source": [
        "from sklearn.model_selection import train_test_split\n",
        "\n",
        "#melakukan drop untuk fitur yang tidak digunakan\n",
        "fitur = data.drop(columns=['id','age','cad','pcc','ane','ba','classification'])\n",
        "target = data['classification']\n",
        "\n",
        "# melakukan pembagian dataset, dataset dibagi menjadi 80% data training dan 20% data testing\n",
        "fitur_train, fitur_test, target_train, target_test = train_test_split(fitur, target, test_size = 0.2, random_state=42)"
      ]
    },
    {
      "cell_type": "markdown",
      "metadata": {
        "id": "aSIDScpE11Pg"
      },
      "source": [
        "### Normalisasi Data\n",
        "\n",
        "Normalisasi Data adalah salah satu proses dalam pre-processing data untuk mengatur dataset agar memenuhi standar tertentu. Data perlu dilakukan agar dapat mengurangi kemungkinan terjadinya redundansi data. Selain itu, normalisasi dagunakan untuk membantu menghindari anomali dalam pengolahan data dan memungkinkan desain basis data yang lebih efisien."
      ]
    },
    {
      "cell_type": "markdown",
      "metadata": {
        "id": "e3rjQ-e6185P"
      },
      "source": [
        "ZSCORE\n",
        "\n",
        "---\n",
        "Pengertian\n",
        "\n",
        "Metode StandardScaler adalah salah satu teknik normalisasi yang umum digunakan dalam pengolahan data. Tujuannya adalah untuk menyesuaikan distribusi data agar memiliki mean (rata-rata) nol dan standar deviasi satu. Ini berguna saat bekerja dengan algoritma yang sensitif terhadap skala dan asumsi dasar bahwa data terdistribusi normal atau mendekati distribusi normal.\n",
        "\n",
        "Proses normalisasi menggunakan StandardScaler melibatkan dua langkah utama:\n",
        "\n",
        "1. Menghitung Mean dan Standar Deviasi: Pertama, perhitungan rata-rata (mean) dan standar deviasi dari setiap fitur (kolom) dalam data dilakukan.\n",
        "\n",
        "2. Transformasi Data: Setelah mendapatkan mean dan standar deviasi, nilai dari setiap fitur dikurangi dengan mean dari fitur tersebut, kemudian hasilnya dibagi dengan standar deviasi fitur tersebut. Proses ini dilakukan untuk setiap nilai dalam setiap fitur.\n",
        "\n",
        "Rumus Standard Scaler\n",
        "\n",
        "$$ X' = \\frac{X - mean(X)}{std(X)} $$\n",
        "Dimana :\n",
        "- X adalah nilai asli dari suatu kolom/fitur\n",
        "- mean(X) adalah nilai rata-rata dari setiap kolom\n",
        "- std(X) adalah nilai standard deviasi dari setiap kolom\n",
        "- X' adalah nilai X yang telah dinormalisasi.\n",
        "\n",
        "Berikut cara menerapkan metode Standar Sclaing ini untuk melakukan normalisasi data :\n",
        "- Pertama perlu disiapkan tabel yang akan dilakukan normalisasi\n",
        "\n",
        "| X  | X`|\n",
        "|----|---|\n",
        "| 12 | 0 |\n",
        "| 18 | 0 |\n",
        "| 35 | 0 |\n",
        "| 28 | 0 |\n",
        "| 25 | 0 |\n",
        "\n",
        "- Setelah itu, hitung standar deviasi dan rata-rata di kolom tersebut. Diketahui :\n",
        "> - Standard Deviasi pada kolom X = 8.905055\n",
        "> - Rata-rata dalam kolom X       = 23,6\n",
        "\n",
        "- Setelah nilai standard deviasi dan rata-rata diketahui maka selanjutnya mulai melakukan normalisasi dengan menghitung X` seperti berikut:\n",
        "\n",
        "| X  | X`|\n",
        "|----|---|\n",
        "| 12 | (12 - 23,6) / (8.905055) |\n",
        "| 18 | (18 - 23,6) / (8.905055) |\n",
        "| 35 | (35 - 23,6) / (8.905055) |\n",
        "| 18 | (28 - 23,6) / (8.905055) |\n",
        "| 25 | (25 - 23,6) / (8.905055) |\n",
        "\n",
        "- Dengan begitu dapat diketahui nilai pada kolom X setelah normalisasi (X`) adalah seperti berikut:\n",
        "\n",
        "| X  | X`|\n",
        "|----|---|\n",
        "| 12 | -1.30 |\n",
        "| 18 | -0.63 |\n",
        "| 35 | 1.28 |\n",
        "| 18 | 0.49 |\n",
        "| 25 | 0.16 |\n"
      ]
    },
    {
      "cell_type": "code",
      "execution_count": null,
      "metadata": {
        "id": "Gonz8lLx2GJR"
      },
      "outputs": [],
      "source": [
        "import pickle\n",
        "from sklearn.preprocessing import StandardScaler\n",
        "\n",
        "# menentukan lokasi file pickle akan disimpan\n",
        "path = 'zscore_scaler_ckd.pkl'\n",
        "\n",
        "# membuat dan melatih objek StandardScaler\n",
        "zscore_scaler = StandardScaler()\n",
        "zscore_scaler.fit(fitur_train)\n",
        "\n",
        "# menyimpan model ke dalam file pickle\n",
        "with open(path, 'wb') as file:\n",
        "    pickle.dump(zscore_scaler, file)\n",
        "\n",
        "# memanggil kembali model normalisasi zscore dari file pickle\n",
        "with open(path, 'rb') as file:\n",
        "    zscore_scaler = pickle.load(file)\n",
        "\n",
        "# menerapkan normalisasi zscore pada data training\n",
        "zscore_training = zscore_scaler.transform(fitur_train)\n",
        "\n",
        "# menerapkan normalisasi zscore pada data testing\n",
        "zscore_testing = zscore_scaler.transform(fitur_test)"
      ]
    },
    {
      "cell_type": "markdown",
      "metadata": {
        "id": "QrOkNnEQ3NJz"
      },
      "source": [
        "MINMAX\n",
        "\n",
        "---\n",
        "\n",
        "Pengertian\n",
        "\n",
        "MinMax Scaling adalah salah satu teknik untuk melakukan normalisasi pada data dengan merubah nilai-nilai dalam kumpulan data ke dalam rentang tertentu, biasanya antara 0 dan 1. Tujuan utamanya adalah untuk menjaga skala relatif antarfitur agar tidak mendominasi satu sama lain.\n",
        "\n",
        "Proses Min-Max Scaling dilakukan dengan langkah-langkah berikut:\n",
        "\n",
        "1. Identifikasi Rentang: Tentukan rentang nilai yang ingin Anda gunakan. Biasanya, dalam Min-Max Scaling, rentang nilai yang dipilih adalah 0 hingga 1, tetapi ini bisa disesuaikan tergantung pada kasus penggunaan.\n",
        "\n",
        "2. Hitung Nilai Minimum dan Maksimum: Tentukan nilai minimum (min) dan nilai maksimum (max) dari setiap fitur dalam kumpulan data yang akan dinormalisasi.\n",
        "\n",
        "3. Normalisasi: Gunakan formula rumusn Min-Max Scaling untuk mengubah nilai-nilai dalam rentang yang ditentukan.\n",
        "\n",
        "Rumus Minmax Scaler\n",
        "\n",
        "$$ X' = \\frac{X - min}{max - min} $$\n",
        "\n",
        "Dimana :\n",
        "- X adalah nilai asli dari suatu kolom/fitur\n",
        "- min adalah nilai minimum dari suatu kolom/fitur dalam dataset\n",
        "- max adalah nilai maximum dari suatu kolom/fitur dalam dataset\n",
        "- X' adalah nilai X yang telah dinormalisasi.\n",
        "\n",
        "Berikut Contoh Penggunaan minmax pada data, sebagai berikut:\n",
        "- Terdapat sebuah tabel dengan kolom X, seperti berikut:\n",
        "\n",
        "| X  | X`|\n",
        "|----|---|\n",
        "| 2  | 0 |\n",
        "| 4  | 0 |\n",
        "| 3  | 0 |\n",
        "| 10 | 0 |\n",
        "\n",
        "- Untuk melakukan normalisasi dengan Min-Max Scaling, maka perlu diidentifikasi nilai tertingggi dan terendah pada kolom. Deketahui :\n",
        "> - Nilai terendah pada kolom X (min) = 2\n",
        "> - Nilai tertinggi pada kolom X (max) = 10\n",
        "- Lalu untuk menentukan nilai X yang telah dinormalisasi maka dengan menghitung setiap baris data yang dimasukkan kedalam rumus Min-Max Scaling seperti berikut:\n",
        "\n",
        "| X  | X`|\n",
        "|----|---|\n",
        "| 2  | (2 - 2) / ( 10 - 2) |\n",
        "| 4  | (4 - 2) / ( 10 - 2) |\n",
        "| 3  | (3 - 2) / ( 10 - 2) |\n",
        "| 10 | (10 - 2) / ( 10 - 2) |\n",
        "\n",
        "- Sehingga nilai X' hasil normalisasi dapat diketahui seperti berikut :\n",
        "\n",
        "| X  | X`|\n",
        "|----|---|\n",
        "| 2  | 0 |\n",
        "| 4  | 0.25 |\n",
        "| 3  | 0.125 |\n",
        "| 10 | 1 |\n",
        "\n"
      ]
    },
    {
      "cell_type": "code",
      "execution_count": null,
      "metadata": {
        "id": "3Wo6zlrs3a41"
      },
      "outputs": [],
      "source": [
        "import pickle\n",
        "from sklearn.preprocessing import MinMaxScaler\n",
        "\n",
        "# menentukan lokasi file pickle akan disimpan\n",
        "path = 'minmax_scaler_ckd.pkl'\n",
        "\n",
        "# membuat dan melatih objek MinMaxScaler\n",
        "minmaxscaler = MinMaxScaler()\n",
        "minmaxscaler.fit(fitur_train)\n",
        "\n",
        "# menyimpan model ke dalam file pickle\n",
        "with open(path, 'wb') as file:\n",
        "    pickle.dump(minmaxscaler, file)\n",
        "\n",
        "# memanggil kembali model normalisasi minmaxscaler dari file pickle\n",
        "with open(path, 'rb') as file:\n",
        "    minmaxscaler = pickle.load(file)\n",
        "\n",
        "# menerapkan normalisasi zscore pada data training\n",
        "minmax_training = minmaxscaler.transform(fitur_train)\n",
        "\n",
        "# menerapkan normalisasi zscore pada data testing\n",
        "minmax_testing = minmaxscaler.transform(fitur_test)"
      ]
    },
    {
      "cell_type": "markdown",
      "metadata": {
        "id": "DejdNXHO86H5"
      },
      "source": [
        "## 4. MODELING\n",
        "---\n",
        "Setelah dilakukan skenario perulangan untuk menghasilkan model terbaik, dapat dikeathui bahwasannya model klasifikasi yang terbaik untuk data anggur merah ini adalah dengan menggunakan :\n",
        "- Metode Random Forest\n",
        "- Metode normalisasi nya adalah Zscore Scaler\n",
        "- Banyak Fitur yang digunakan dalam data sebanyak 19 fitur\n",
        "- Parameter dalam metode yang digunakan, sebagai berikut:\n",
        "\n",
        "  > - jumlah estimator         : 50, 100, 200\n",
        "  > - maksimal kedalaman       : None, 10, 20, 30\n",
        "  > - minimal pembagian sampel : 2, 5, 10\n",
        "  > - minimal sampel daun      : 1, 2, 4"
      ]
    },
    {
      "cell_type": "markdown",
      "metadata": {
        "id": "c40CMn37xfXf"
      },
      "source": [
        "### RANDOM FOREST\n",
        "---\n",
        "\n",
        "Random Forest adalah algoritma pembelajaran terawasi yang digunakan untuk tugas klasifikasi dan regresi dalam machine learning. Ini merupakan bagian dari keluarga algoritma yang dikenal sebagai ensemble learning, yang menggabungkan hasil beberapa model untuk meningkatkan kinerja dan ketepatan prediksi.\n",
        "\n",
        "Konsep inti dari Random Forest adalah membuat sejumlah besar pohon keputusan saat melakukan prediksi. Setiap pohon keputusan dibuat berdasarkan sampel acak dari data pelatihan dan fitur yang dipilih secara acak. Proses ini mengurangi risiko overfitting (memfitting data pelatihan secara berlebihan) yang sering terjadi pada pohon keputusan tunggal.\n",
        "\n",
        "Selama proses pelatihan, setiap pohon keputusan dalam hutan acak memilih subset data yang diambil secara acak dan subset fitur untuk membuat keputusan. Ketika melakukan prediksi, setiap pohon memberikan hasilnya, dan hasil akhir dari Random Forest diperoleh dengan mengambil mayoritas suara dari semua pohon keputusan (untuk klasifikasi) atau rerata hasil (untuk regresi).\n",
        "\n",
        "Kelebihan dari Random Forest termasuk kemampuannya dalam menangani data yang besar dengan fitur yang banyak, serta kemampuan untuk mengatasi overfitting. Namun, seperti halnya dengan banyak algoritma machine learning, pengaturan parameter yang tidak tepat atau kekurangan pemrosesan data yang tepat dapat mempengaruhi kinerja Random Forest.\n",
        "\n",
        "Random Forest terdiri dari beberapa pohon keputusan yang dibuat secara acak. Untuk setiap pohon keputusan:\n",
        "\n",
        "- Sampling Data: Lakukan bootstrap sampling pada dataset (ambil sampel acak dengan penggantian).\n",
        "\n",
        "    Bootstrap Sampling: Proses pengambilan sampel acak dengan penggantian dari dataset yang sama ukuran dengan dataset asli.\n",
        "\n",
        "- Pemilihan Jumlah Pohon (n_estimators): Tentukan jumlah pohon keputusan yang akan dibuat dalam Random Forest.\n",
        "\n",
        "- Pemilihan Fitur: Ambil subset acak dari fitur-fitur yang tersedia untuk membangun pohon.\n",
        "- Pembentukan Pohon: Gunakan algoritma pembentukan pohon (seperti CART atau ID3) untuk membagi data berdasarkan aturan yang paling informatif."
      ]
    },
    {
      "cell_type": "code",
      "execution_count": null,
      "metadata": {
        "colab": {
          "base_uri": "https://localhost:8080/"
        },
        "id": "IaGwlliy-znh",
        "outputId": "b91349cf-9682-4af6-b4fc-d7b9b70a3a22"
      },
      "outputs": [
        {
          "name": "stdout",
          "output_type": "stream",
          "text": [
            "Best Parameters: {'max_depth': None, 'min_samples_leaf': 1, 'min_samples_split': 2, 'n_estimators': 50}\n"
          ]
        }
      ],
      "source": [
        "from sklearn.ensemble import RandomForestClassifier\n",
        "from sklearn.model_selection import GridSearchCV\n",
        "from sklearn.metrics import accuracy_score\n",
        "import pickle\n",
        "# Definisi parameter grid untuk Random Forest\n",
        "param_grid = {\n",
        "    'n_estimators': [50, 100, 200],  # Jumlah pohon dalam ensemble\n",
        "    'max_depth': [None, 10, 20, 30],  # Kedalaman maksimum pohon\n",
        "    'min_samples_split': [2, 5, 10],  # Jumlah minimum sampel yang diperlukan untuk membagi simpul\n",
        "    'min_samples_leaf': [1, 2, 4],  # Jumlah minimum sampel di ujung daun\n",
        "}\n",
        "\n",
        "# Inisialisasi model Random Forest\n",
        "rf_classifier = RandomForestClassifier()\n",
        "\n",
        "# Grid Search dengan model Random Forest dan parameter grid\n",
        "grid_search = GridSearchCV(estimator=rf_classifier, param_grid=param_grid, cv=5, scoring='accuracy')\n",
        "grid_search.fit(zscore_training, target_train)\n",
        "\n",
        "# Cetak parameter terbaik\n",
        "print(\"Best Parameters:\", grid_search.best_params_)\n",
        "\n",
        "best_n_estimators = grid_search.best_params_['n_estimators']\n",
        "best_max_depth = grid_search.best_params_['max_depth']\n",
        "best_min_samples_split = grid_search.best_params_['min_samples_split']\n",
        "best_min_samples_leaf = grid_search.best_params_['min_samples_leaf']\n",
        "\n",
        "\n"
      ]
    },
    {
      "cell_type": "code",
      "execution_count": null,
      "metadata": {
        "colab": {
          "base_uri": "https://localhost:8080/"
        },
        "id": "2A4kfoG6yqD-",
        "outputId": "d670be52-553b-496a-aa6f-c0ad73aa9a02"
      },
      "outputs": [
        {
          "name": "stdout",
          "output_type": "stream",
          "text": [
            "Best Accuracy: 1.0\n"
          ]
        }
      ],
      "source": [
        "# Inisialisasi model Random Forest dengan parameter terbaik\n",
        "best_rf_model = RandomForestClassifier(\n",
        "    n_estimators=best_n_estimators,\n",
        "    max_depth=best_max_depth,\n",
        "    min_samples_split=best_min_samples_split,\n",
        "    min_samples_leaf=best_min_samples_leaf\n",
        ")\n",
        "\n",
        "# Melatih model terbaik pada data training\n",
        "best_rf_model.fit(zscore_training, target_train)\n",
        "\n",
        "# Melakukan prediksi dan mengukur akurasi pada data testing\n",
        "y_pred = best_rf_model.predict(zscore_testing)\n",
        "best_accuracy = accuracy_score(target_test, y_pred)\n",
        "\n",
        "print(\"Best Accuracy:\", best_accuracy)\n",
        "\n",
        "# Simpan model Random Forest terbaik dan informasi terkait dalam file pickle\n",
        "best_model_info = {\n",
        "    'best_rf_model': best_rf_model,\n",
        "    'best_accuracy': best_accuracy,\n",
        "}\n",
        "\n",
        "with open('best_rf_model_zscore_ckd.pkl', 'wb') as model_file:\n",
        "    pickle.dump(best_model_info, model_file)"
      ]
    },
    {
      "cell_type": "markdown",
      "metadata": {
        "id": "cF2aVl2D5RZ_"
      },
      "source": [
        "## EVALUASI MODEL\n",
        "---\n",
        "Pada tahap ini model terbaik yang diperoleh pada tahap modeling dilakukan validasi dengan menampilkan nilai confusion matrix nya atau laporan klasifikasinya dengan menggunakan grafik ROC-AUC"
      ]
    },
    {
      "cell_type": "markdown",
      "metadata": {
        "id": "TiJ8z7Ct5VcG"
      },
      "source": [
        "### CONFUSION MATRIX\n",
        "---\n",
        "\n",
        "Confusion matrix adalah sebuah tabel yang digunakan dalam evaluasi kinerja model klasifikasi untuk memahami performa model dalam memprediksi kelas-kelas target. Matrix ini memiliki empat sel yang mewakili:\n",
        "\n",
        "1. True Positive (TP): Prediksi yang benar ketika kelas sebenarnya adalah positif.\n",
        "2. True Negative (TN): Prediksi yang benar ketika kelas sebenarnya adalah negatif.\n",
        "3. False Positive (FP): Prediksi yang salah ketika model memprediksi positif tetapi kelas sebenarnya negatif (juga dikenal sebagai Type I error).\n",
        "4. False Negative (FN): Prediksi yang salah ketika model memprediksi negatif tetapi kelas sebenarnya positif (juga dikenal sebagai Type II error).\n",
        "\n",
        "Bentuk dari tabel Confusion Matrix\n",
        "\n",
        "|                | Predicted Negative | Predicted Positive |\n",
        "|----------------|--------------------|--------------------|\n",
        "| Actual Negative| True Negative (TN) | False Positive (FP)|\n",
        "| Actual Positive| False Negative (FN)| True Positive (TP) |\n",
        "\n",
        "Dari Confusion Matriks, kta dapat  menghitung metrik evaluasi seperti akurasi, presisi, recall, F1-score, dan lainnya yang membantu dalam mengevaluasi performa model klasifikasi.\n",
        "\n",
        "#### Metrik Evaluasi\n",
        "\n",
        "Metrik evaluasi adalah ukuran atau parameter yang digunakan untuk mengevaluasi kinerja suatu model atau sistem dalam melakukan tugas tertentu, seperti klasifikasi, regresi, atau tugas lainnya dalam bidang machine learning dan statistika. Metrik-metrik ini membantu dalam memahami seberapa baik atau buruk model tersebut dalam melakukan prediksi atau tugas yang ditetapkan.\n",
        "\n",
        "Beberapa metrik evaluasi umum dalam machine learning termasuk:\n",
        "> - Akurasi (Accuracy): Seberapa sering model memberikan prediksi yang benar secara keseluruhan.\n",
        "Rumus Akurasi :\n",
        "$$ Accuracy = \\frac{TN + TP}{TN + FP + FN + TP} $$\n",
        "> - Presisi (Precision): Proporsi dari prediksi positif yang benar dibandingkan dengan semua prediksi positif yang dibuat oleh model\n",
        "Rumus Precision :\n",
        "$$ Precision = \\frac{TP}{TP + FP} $$\n",
        "> - Recall (Sensitivity atau True Positive Rate): Proporsi dari kelas positif yang diprediksi dengan benar oleh model.\n",
        "Rumus Recall :\n",
        "$$ Recall = \\frac{TP}{TP + FN} $$\n",
        "> - F1-Score: Nilai rata-rata harmonik antara presisi dan recall. Berguna ketika perlu menyeimbangkan antara presisi dan recall.\n",
        "Rumus F1-Score :\n",
        "$$ F1-Score = 2 x \\frac {Presisi x Recall}{Presisi x Recall} $$\n",
        "> - Specificity (Specificity atau True Negative Rate): Proporsi dari kelas negatif yang diprediksi dengan benar oleh model.\n",
        "Rumus Specificity :\n",
        "$$ Specificity = \\frac{TN}{TN + FP} $$\n",
        "\n"
      ]
    },
    {
      "cell_type": "code",
      "execution_count": null,
      "metadata": {
        "colab": {
          "base_uri": "https://localhost:8080/"
        },
        "id": "1r5IZ8iv5cEf",
        "outputId": "c50a5b6c-69b9-46ce-f779-cb89d00e49e3"
      },
      "outputs": [
        {
          "name": "stdout",
          "output_type": "stream",
          "text": [
            "\n",
            "EVALUASI MODEL DENGAN DATA UJI ZSCORE\n",
            "Confusion Matrix Zscore:\n",
            "[[27  0]\n",
            " [ 0 50]]\n",
            "\n",
            "True Positive (TP): 50\n",
            "True Negative (TN): 27\n",
            "False Positive (FP): 0\n",
            "False Negative (FN): 0\n",
            "\n",
            "Classification Report Zscore:\n",
            "              precision    recall  f1-score   support\n",
            "\n",
            "           0       1.00      1.00      1.00        27\n",
            "           1       1.00      1.00      1.00        50\n",
            "\n",
            "    accuracy                           1.00        77\n",
            "   macro avg       1.00      1.00      1.00        77\n",
            "weighted avg       1.00      1.00      1.00        77\n",
            "\n",
            "ROC-AUC Score Zscore: 1.0\n"
          ]
        }
      ],
      "source": [
        "from sklearn.metrics import confusion_matrix, classification_report, roc_auc_score,roc_curve\n",
        "\n",
        "# Evaluasi model dengan data uji Zscore\n",
        "print(\"\\nEVALUASI MODEL DENGAN DATA UJI ZSCORE\")\n",
        "print(\"Confusion Matrix Zscore:\")\n",
        "conf_matrix = confusion_matrix(target_test, y_pred)\n",
        "print(conf_matrix)\n",
        "\n",
        "# Mendapatkan nilai TP, TN, FP, FN dari confusion matrix\n",
        "TN = conf_matrix[0, 0]\n",
        "FP = conf_matrix[0, 1]\n",
        "FN = conf_matrix[1, 0]\n",
        "TP = conf_matrix[1, 1]\n",
        "\n",
        "print(\"\\nTrue Positive (TP):\", TP)\n",
        "print(\"True Negative (TN):\", TN)\n",
        "print(\"False Positive (FP):\", FP)\n",
        "print(\"False Negative (FN):\", FN)\n",
        "\n",
        "print(\"\\nClassification Report Zscore:\")\n",
        "print(classification_report(target_test, y_pred))\n",
        "print(\"ROC-AUC Score Zscore:\", roc_auc_score(target_test, y_pred))\n"
      ]
    },
    {
      "cell_type": "markdown",
      "metadata": {
        "id": "dItNnbKf9pyv"
      },
      "source": [
        "### GRAFIK ROC-AUC\n",
        "---\n",
        "\n",
        "Metrik evaluasi ROC (Receiver Operating Characteristic) dan AUC (Area Under the ROC Curve) adalah alat evaluasi yang digunakan untuk mengukur kinerja model klasifikasi, terutama ketika model harus mengklasifikasikan antara dua kelas.\n",
        "\n",
        "#### Receiver Operating Characteristic (ROC) Curve\n",
        "ROC Curve adalah adalah kurva grafik yang menampilkan kinerja model klasifikasi pada berbagai tingkat cutoff (threshold) untuk membedakan antara kelas positif dan negatif. Didalam ROC kurva dapat diketahui sensitivity (True Positive Rate) dan False Positive Rate (1-Specificity), untuk menunjukkan seberapa baik model klasifikasi sehingga dapat membedakan antara kelas positif dan negatif.\n",
        "\n",
        "\n",
        "#### Area Under the ROC Curve (AUC-ROC):\n",
        "AUC-ROC adalah ukuran dari luas area di bawah kurva ROC.\n",
        "- Interpretasi :\n",
        " Nilai AUC berkisar antara 0 hingga 1. Semakin dekat nilainya ke 1, semakin baik model dalam membedakan antara kelas positif dan negatif. Jika nilainya 0.5, itu menunjukkan klasifikasi acak."
      ]
    },
    {
      "cell_type": "code",
      "execution_count": null,
      "metadata": {
        "colab": {
          "base_uri": "https://localhost:8080/",
          "height": 564
        },
        "id": "KhIWrAv29xhJ",
        "outputId": "26141de0-bc39-4bcd-97e4-10beb55cd57e"
      },
      "outputs": [
        {
          "data": {
            "image/png": "[encoded data removed]",
            "text/plain": [
              "<Figure size 800x600 with 1 Axes>"
            ]
          },
          "metadata": {},
          "output_type": "display_data"
        }
      ],
      "source": [
        "from sklearn.preprocessing import StandardScaler\n",
        "from sklearn.metrics import confusion_matrix, classification_report, roc_auc_score,roc_curve\n",
        "import matplotlib.pyplot as plt\n",
        "\n",
        "# Normalisasi Z-score pada data uji\n",
        "scaler = StandardScaler()\n",
        "y_pred_zscore = scaler.fit_transform(y_pred.reshape(-1, 1))  # Reshape agar sesuai dengan format yang diharapkan oleh fit_transform\n",
        "\n",
        "# Kurva ROC-AUC untuk model dengan data uji Z-score\n",
        "fpr_zscore, tpr_zscore, thresholds_zscore = roc_curve(target_test, y_pred_zscore)\n",
        "roc_auc_zscore = roc_auc_score(fpr_zscore, tpr_zscore)\n",
        "\n",
        "plt.figure(figsize=(8, 6))\n",
        "plt.plot(fpr_zscore, tpr_zscore, label='ROC Curve Z-score (area = %0.2f)' % roc_auc_zscore)\n",
        "plt.plot([0, 1], [0, 1], 'k--')\n",
        "plt.xlabel('False Positive Rate')\n",
        "plt.ylabel('True Positive Rate')\n",
        "plt.title('Receiver Operating Characteristic (ROC) Curve Z-score')\n",
        "plt.legend(loc='lower right')\n",
        "plt.show()\n"
      ]
    },
    {
      "cell_type": "markdown",
      "metadata": {
        "id": "DxWKaMEi_zrJ"
      },
      "source": [
        "## 5. Deployment"
      ]
    },
    {
      "cell_type": "markdown",
      "metadata": {
        "id": "3HtmR4PpydGP"
      },
      "source": [
        "Pada tahap deployment, menggunakan streamlit dengan file yang berekstensi **.py** . File yang dilakukan pengolahan yaitu sebagai berikut :\n",
        "- model normalisasi Zscore yang disimpan dalam file pickle\n",
        "- model dengan algoritma terbaik pada pengolahan data ini yaitu Random Forest"
      ]
    }
  ],
  "metadata": {
    "colab": {
      "provenance": []
    },
    "kernelspec": {
      "display_name": "Python 3",
      "name": "python3"
    },
    "language_info": {
      "name": "python"
    }
  },
  "nbformat": 4,
  "nbformat_minor": 0
}
